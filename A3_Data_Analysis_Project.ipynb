{
 "cells": [
  {
   "attachments": {
    "architecture.jpg": {
     "image/jpeg": "[encoded data removed]"
    }
   },
   "cell_type": "markdown",
   "metadata": {},
   "source": [
    "# Project Plan\n",
    "\n",
    "## The Data\n",
    "\n",
    "The data chosen for this analysis is the [Flight Status Prediction](https://www.kaggle.com/datasets/robikscube/flight-delay-dataset-20182022) dataset from Kaggle. It contains the data for flights in the United States. It contains 5 files for each year from 2018 to 2022. The total number of records for the 5 years is around 29 million.\n",
    "\n",
    "### Data Set Citation\n",
    "Mulla, R. 2022. Flight Status Prediction. Kaggle. [Online]. [Accessed 4 December 2022]. Available from: [https://www.kaggle.com/datasets/robikscube/flight-delay-dataset-20182022](https://www.kaggle.com/datasets/robikscube/flight-delay-dataset-20182022)\n",
    "\n",
    "### Attributes crucial for our analysis\n",
    "\n",
    "| **Column Name**           | **Description**                                                                | **Data Type** |\n",
    "|:--------------------------|:-------------------------------------------------------------------------------|:--------------|\n",
    "| FlightDate                | The Date the Flight was scheduled                                              | object        |\n",
    "| Airline                   | Name of the Operating Airline                                                  | object        |\n",
    "| Origin                    | Origin Airport Code                                                            | object        |\n",
    "| OriginCityName            | Name of the Origin City                                                        | object        |\n",
    "| Dest                      | Destination Airport Code                                                       | object        |\n",
    "| DestCityName              | Name of the Destination city                                                   | object        |\n",
    "| Cancelled                 | Whether the Flight was Cancelled or not                                        | boolean       |\n",
    "| Diverted                  | Whether the Flight was Diverted or not                                         | boolean       |\n",
    "| CRSDepTime                | Scheduled Departure Time. (Format - hhmm.0)                                    | float         |\n",
    "| DepTime                   | Actual Departure Time. (Format - hhmm.0)                                       | float         |\n",
    "| CRSArrTime                | Scheduled Arrival Time. (Format - hhmm.0)                                      | float         |\n",
    "| ArrTime                   | Actual Arrival Time. (Format - hhmm.0)                                         | float         |\n",
    "| AirTime                   | The duration the flight is in air. This excludes the time spent on the runway. | float         |\n",
    "| CRSElapsedTime            | Estimated Duration of the flight in minutes.                                   | float         |\n",
    "| ActualElapsedTime         | Actual Duration of the flight in minutes.                                      | float         |\n",
    "| DepDelay                  | Delay in departure in minutes.                                                 | float         |\n",
    "| ArrDelay                  | Delay in arrival in minutes.                                                   | float         |\n",
    "| Year                      | Departure Year. (Format - yyyy)                                                | int           |\n",
    "| Month                     | Departure Month. (Format - mm)                                                 | int           |\n",
    "| DayofMonth                | Departure Date. (Format - dd)                                                  | int           |\n",
    "|IATA_Code_Operating_Airline| Code assigned by IATA and commonly used to identify a carrier                  | object        |\n",
    "|FlightNumberOperatingAirline|Flight Number                                                                  | int           |\n",
    "\n",
    "\n",
    "### Issues faced\n",
    "1. The total percentage of scheduled flights is significantly higher than that of the cancelled flights. This makes it complex for predictions on whether a flight will be cancelled or not. The data between the flight status is split as follows.\n",
    " * Scheduled - 97% (28,348,166 flights)\n",
    " * Cancelled - 2.6% (777,267 flights)\n",
    " * Diverted - 0.2% (68,349 flights)\n",
    " * Total (Scheduled + Cancelled + Diverted) - 29,193,782\n",
    "2. Null values. \n",
    " * It is feasible to drop the null values for Scheduled flights as they are significantly higher than the Cancelled and Diverted flights.\n",
    " * For Cancelled and Diverted flights, the rows with null values cannot be dropped because we will be losing out on essential data needed for our Machine Learning model.\n",
    "\n",
    "\n",
    "## Project Aim and Objectives \n",
    "\n",
    "Through this project, our aim is to answer the following questions.\n",
    "- **Search**: Determining the airline with the least air time from a point A to B. This is critical for frequent flyers to minimize their travel time.\n",
    "- **Visualisation**: To visualize the impact of covid in flights. We would want to see which airports had the most affected passengers in terms of flight cancellations and diversions.\n",
    "- **Classification**: To rank the airlines in terms of their reliability. The ranking would be based on airlines that have lesser delays and cancellations.\n",
    "- **Simulation**: Developing a Machine Learning model that can predict the likelihood of a flight being cancelled by using the Airline, Date, Origin, Destination, Departure Time, and Arrival Time as parameters.\n",
    "\n",
    "### Specific Objective(s)\n",
    "\n",
    "* __Objective 1:__ _Determine the minimum airtime to go from origin airport to destination airport._\n",
    "* __Objective 2:__ _Ranking the reliability of an airline on the basis of previously cancelled, delayed and diverted flights._\n",
    "* __Objective 3:__ _Visualising the impact of covid and the most affected airports._\n",
    "* __Objective 4:__ _Predicting if a flight will be cancelled or not._\n",
    "\n",
    "## System Design\n",
    "\n",
    "\n",
    "### Architecture\n",
    "\n",
    "![architecture.jpg](attachment:architecture.jpg)\n",
    "\n",
    "_The data used is a very large dataset with 29 million data points. There were several data points with null values and redundant values. The data was initially pre processed using manipulations with pandas package. All the null values were removed and exceptional cases were also dropped from the data and a consolidated data frame was created. According to the objectives the data was manipulated further and outputs were obtained.The required features were extracted from the consolidated data and the analysis was done accordingly. For getting the prediction of whether the flight was cancelled or not machine learning algorithms such as Logistic Regression, Random Forest Classification and Logistic Regression with SMOTE were used and accuracies were compared._\n",
    "  \n",
    "### Processing Modules and Algorithms\n",
    "\n",
    "1. Data Preprocessing\n",
    " * pandas - Pandas is used to read the data and perform manipulations as part of the preprocessing.\n",
    "1. Data Preprocessing\n",
    " * sklearn - Scikit learn is used for feature scaling (StandardScaler), for creating the training and testing data (train_test_split), and the LogisticRegression and RandomForestClassifier models.   \n",
    " * [imbalanced-learn](https://imbalanced-learn.org/stable/) - The imbalanced-learn package is used to oversample the data for cancelled flights.\n",
    " * seaborn - seaborn is used to visualize the confusion matrix to determine the accuracy of the model."
   ]
  },
  {
   "cell_type": "markdown",
   "metadata": {},
   "source": [
    "# Program Code \n"
   ]
  },
  {
   "cell_type": "markdown",
   "metadata": {},
   "source": [
    "#### _Brief Explanation of following code cell_\n",
    "\n",
    "_Importing all the packages required for this project._"
   ]
  },
  {
   "cell_type": "code",
   "execution_count": 2,
   "metadata": {},
   "outputs": [],
   "source": [
    "import pandas as pd\n",
    "import numpy as np\n",
    "import seaborn as sns\n",
    "import matplotlib.pyplot as plt\n",
    "from sklearn.model_selection import train_test_split\n",
    "from sklearn.linear_model import LogisticRegression\n",
    "from sklearn.ensemble import RandomForestClassifier\n",
    "from sklearn.preprocessing import StandardScaler\n",
    "from sklearn import metrics\n",
    "from imblearn.over_sampling import SMOTE\n",
    "import math"
   ]
  },
  {
   "cell_type": "markdown",
   "metadata": {},
   "source": [
    "## Data Cleaning"
   ]
  },
  {
   "cell_type": "markdown",
   "metadata": {},
   "source": [
    "#### _Brief Explanation of following code cell_\n",
    "\n",
    "_Reading the flight_data and storing it into a dataframe for their subsequent years._"
   ]
  },
  {
   "cell_type": "code",
   "execution_count": 3,
   "metadata": {},
   "outputs": [],
   "source": [
    "data_2018 = pd.read_csv('Dataset/archive/Combined_Flights_2018.csv')\n",
    "data_2019 = pd.read_csv('Dataset/archive/Combined_Flights_2019.csv')\n",
    "data_2020 = pd.read_csv('Dataset/archive/Combined_Flights_2020.csv')\n",
    "data_2021 = pd.read_csv('Dataset/archive/Combined_Flights_2021.csv')\n",
    "data_2022 = pd.read_csv('Dataset/archive/Combined_Flights_2022.csv')"
   ]
  },
  {
   "cell_type": "markdown",
   "metadata": {},
   "source": [
    "#### _Brief Explanation of following code cell_\n",
    "\n",
    "_Creating a list with the features we need to use._"
   ]
  },
  {
   "cell_type": "code",
   "execution_count": 4,
   "metadata": {},
   "outputs": [],
   "source": [
    "features = ['FlightDate', 'Airline', 'Origin', 'Dest', 'Cancelled', 'Diverted'\n",
    "            ,'CRSDepTime', 'DepTime', 'DepDelay', 'CRSArrTime', 'ArrTime', 'ArrDelay'\n",
    "            , 'AirTime', 'CRSElapsedTime', 'ActualElapsedTime','Distance'\n",
    "            , 'Year', 'Quarter', 'Month', 'DayofMonth', 'DayOfWeek', 'Operating_Airline'\n",
    "            , 'DOT_ID_Operating_Airline', 'IATA_Code_Operating_Airline'\n",
    "            , 'Flight_Number_Operating_Airline', 'OriginAirportID'\n",
    "            , 'OriginCityName', 'DestAirportID', 'DestCityName'\n",
    "            ]"
   ]
  },
  {
   "cell_type": "markdown",
   "metadata": {},
   "source": [
    "#### _Brief Explanation of following code cell_\n",
    "\n",
    "_Filtering the DF's to contain only the target features and then consolidating them into one dataframe._"
   ]
  },
  {
   "cell_type": "code",
   "execution_count": 5,
   "metadata": {},
   "outputs": [],
   "source": [
    "data_2018_new = data_2018[features]\n",
    "data_2019_new = data_2019[features]\n",
    "data_2020_new = data_2020[features]\n",
    "data_2021_new = data_2021[features]\n",
    "data_2022_new = data_2022[features]\n",
    "\n",
    "consolidated_data = pd.concat([data_2018_new, data_2019_new, data_2020_new, data_2021_new, data_2022_new])"
   ]
  },
  {
   "cell_type": "markdown",
   "metadata": {},
   "source": [
    "### Scheduled Flights"
   ]
  },
  {
   "cell_type": "markdown",
   "metadata": {},
   "source": [
    "#### _Brief Explanation of following code cell_\n",
    "\n",
    "_Creating a function to drop the missing values and generating a dataframe for flights that were scheduled (Cancelled == False) & (Diverted == False)._"
   ]
  },
  {
   "cell_type": "code",
   "execution_count": 6,
   "metadata": {},
   "outputs": [],
   "source": [
    "def drop_missing_values_scheduled(df):\n",
    "    cleaned_df = df.dropna()\n",
    "    return cleaned_df\n",
    "\n",
    "cleaned_df = drop_missing_values_scheduled(consolidated_data[(consolidated_data['Cancelled'] == False) & (consolidated_data['Diverted'] == False)])"
   ]
  },
  {
   "cell_type": "markdown",
   "metadata": {},
   "source": [
    "#### _Brief Explanation of following code cell_\n",
    "\n",
    "_Checking if the null values for scheduled flights were dropped successfully._"
   ]
  },
  {
   "cell_type": "code",
   "execution_count": 7,
   "metadata": {},
   "outputs": [
    {
     "data": {
      "text/plain": [
       "FlightDate                         0\n",
       "Airline                            0\n",
       "Origin                             0\n",
       "Dest                               0\n",
       "Cancelled                          0\n",
       "Diverted                           0\n",
       "CRSDepTime                         0\n",
       "DepTime                            0\n",
       "DepDelay                           0\n",
       "CRSArrTime                         0\n",
       "ArrTime                            0\n",
       "ArrDelay                           0\n",
       "AirTime                            0\n",
       "CRSElapsedTime                     0\n",
       "ActualElapsedTime                  0\n",
       "Distance                           0\n",
       "Year                               0\n",
       "Quarter                            0\n",
       "Month                              0\n",
       "DayofMonth                         0\n",
       "DayOfWeek                          0\n",
       "Operating_Airline                  0\n",
       "DOT_ID_Operating_Airline           0\n",
       "IATA_Code_Operating_Airline        0\n",
       "Flight_Number_Operating_Airline    0\n",
       "OriginAirportID                    0\n",
       "OriginCityName                     0\n",
       "DestAirportID                      0\n",
       "DestCityName                       0\n",
       "dtype: int64"
      ]
     },
     "execution_count": 7,
     "metadata": {},
     "output_type": "execute_result"
    }
   ],
   "source": [
    "cleaned_df.isna().sum()"
   ]
  },
  {
   "cell_type": "markdown",
   "metadata": {},
   "source": [
    "### Cancelled Flights"
   ]
  },
  {
   "cell_type": "markdown",
   "metadata": {},
   "source": [
    "#### _Brief Explanation of following code cell_\n",
    "\n",
    "_Fetching all the cancelled flight (Cancelled == True) & (Diverted == False)._"
   ]
  },
  {
   "cell_type": "code",
   "execution_count": 8,
   "metadata": {},
   "outputs": [],
   "source": [
    "consolidated_df_cancelled = consolidated_data[(consolidated_data['Cancelled'] == True) & (consolidated_data['Diverted'] == False)]"
   ]
  },
  {
   "cell_type": "markdown",
   "metadata": {},
   "source": [
    "#### _Brief Explanation of following code cell_\n",
    "\n",
    "_Fetching the row count and checking the total null values._"
   ]
  },
  {
   "cell_type": "code",
   "execution_count": 9,
   "metadata": {},
   "outputs": [
    {
     "name": "stdout",
     "output_type": "stream",
     "text": [
      "Rows 777265\n",
      "FlightDate                              0\n",
      "Airline                                 0\n",
      "Origin                                  0\n",
      "Dest                                    0\n",
      "Cancelled                               0\n",
      "Diverted                                0\n",
      "CRSDepTime                              0\n",
      "DepTime                            761632\n",
      "DepDelay                           761969\n",
      "CRSArrTime                              0\n",
      "ArrTime                            777256\n",
      "ArrDelay                           777265\n",
      "AirTime                            777265\n",
      "CRSElapsedTime                         18\n",
      "ActualElapsedTime                  777265\n",
      "Distance                                0\n",
      "Year                                    0\n",
      "Quarter                                 0\n",
      "Month                                   0\n",
      "DayofMonth                              0\n",
      "DayOfWeek                               0\n",
      "Operating_Airline                       0\n",
      "DOT_ID_Operating_Airline                0\n",
      "IATA_Code_Operating_Airline             0\n",
      "Flight_Number_Operating_Airline         0\n",
      "OriginAirportID                         0\n",
      "OriginCityName                          0\n",
      "DestAirportID                           0\n",
      "DestCityName                            0\n",
      "dtype: int64\n"
     ]
    }
   ],
   "source": [
    "print('Rows', len(consolidated_df_cancelled))\n",
    "print(consolidated_df_cancelled.isna().sum())"
   ]
  },
  {
   "cell_type": "markdown",
   "metadata": {},
   "source": [
    "#### _Brief Explanation of following code cell_\n",
    "\n",
    "_For cancelled flights - ArrTime, DepTime will be null so we are setting them to the scheduled time._\n",
    "_Also - DepDelay, ArrDelay, AirTime, and ActualElapsedTime will be null so we are setting them to 0._"
   ]
  },
  {
   "cell_type": "code",
   "execution_count": 11,
   "metadata": {},
   "outputs": [],
   "source": [
    "consolidated_df_cancelled.loc[:, 'ArrTime'] = consolidated_df_cancelled.loc[:, 'CRSArrTime']\n",
    "consolidated_df_cancelled.loc[:, 'DepTime'] = consolidated_df_cancelled.loc[:, 'CRSDepTime']\n",
    "consolidated_df_cancelled.loc[:, 'DepDelay'] = 0\n",
    "consolidated_df_cancelled.loc[:, 'ArrDelay'] = 0\n",
    "consolidated_df_cancelled.loc[:, 'AirTime'] = 0\n",
    "consolidated_df_cancelled.loc[:, 'ActualElapsedTime'] = 0"
   ]
  },
  {
   "cell_type": "markdown",
   "metadata": {},
   "source": [
    "#### _Brief Explanation of following code cell_\n",
    "\n",
    "_Calculating the CRSElapsedTime if it is null. It should be the Difference in minutes for (CRSArrTime - CRSDepTime)._"
   ]
  },
  {
   "cell_type": "code",
   "execution_count": 12,
   "metadata": {},
   "outputs": [],
   "source": [
    "for i in range(len(consolidated_df_cancelled)):\n",
    "    if (math.isnan(consolidated_df_cancelled.iloc[i, 13])):\n",
    "        hours = ((consolidated_df_cancelled.iloc[i, 9] // 100 - consolidated_df_cancelled.iloc[i, 6] // 100) * 60)\n",
    "        mins = (consolidated_df_cancelled.iloc[i, 9] % 100 - consolidated_df_cancelled.iloc[i, 6] % 100) \n",
    "        consolidated_df_cancelled.iloc[i, 13] = hours + mins"
   ]
  },
  {
   "cell_type": "markdown",
   "metadata": {},
   "source": [
    "#### _Brief Explanation of following code cell_\n",
    "\n",
    "_Checking if all null values have been handled._"
   ]
  },
  {
   "cell_type": "code",
   "execution_count": 13,
   "metadata": {},
   "outputs": [
    {
     "name": "stdout",
     "output_type": "stream",
     "text": [
      "FlightDate                         0\n",
      "Airline                            0\n",
      "Origin                             0\n",
      "Dest                               0\n",
      "Cancelled                          0\n",
      "Diverted                           0\n",
      "CRSDepTime                         0\n",
      "DepTime                            0\n",
      "DepDelay                           0\n",
      "CRSArrTime                         0\n",
      "ArrTime                            0\n",
      "ArrDelay                           0\n",
      "AirTime                            0\n",
      "CRSElapsedTime                     0\n",
      "ActualElapsedTime                  0\n",
      "Distance                           0\n",
      "Year                               0\n",
      "Quarter                            0\n",
      "Month                              0\n",
      "DayofMonth                         0\n",
      "DayOfWeek                          0\n",
      "Operating_Airline                  0\n",
      "DOT_ID_Operating_Airline           0\n",
      "IATA_Code_Operating_Airline        0\n",
      "Flight_Number_Operating_Airline    0\n",
      "OriginAirportID                    0\n",
      "OriginCityName                     0\n",
      "DestAirportID                      0\n",
      "DestCityName                       0\n",
      "dtype: int64\n"
     ]
    }
   ],
   "source": [
    "print(consolidated_df_cancelled.isna().sum())"
   ]
  },
  {
   "cell_type": "markdown",
   "metadata": {},
   "source": [
    "## Diverted Flights"
   ]
  },
  {
   "cell_type": "markdown",
   "metadata": {},
   "source": [
    "#### _Brief Explanation of following code cell_\n",
    "\n",
    "_Retrieving all diverted flights (Diverted == True) & (Cancelled == False). Also fetching the row count and null values._"
   ]
  },
  {
   "cell_type": "code",
   "execution_count": 23,
   "metadata": {},
   "outputs": [
    {
     "name": "stdout",
     "output_type": "stream",
     "text": [
      "68347\n",
      "FlightDate                             0\n",
      "Airline                                0\n",
      "Origin                                 0\n",
      "Dest                                   0\n",
      "Cancelled                              0\n",
      "Diverted                               0\n",
      "CRSDepTime                             0\n",
      "DepTime                                0\n",
      "DepDelay                               8\n",
      "CRSArrTime                             0\n",
      "ArrTime                             8896\n",
      "ArrDelay                           68347\n",
      "AirTime                            68347\n",
      "CRSElapsedTime                         3\n",
      "ActualElapsedTime                  68347\n",
      "Distance                               0\n",
      "Year                                   0\n",
      "Quarter                                0\n",
      "Month                                  0\n",
      "DayofMonth                             0\n",
      "DayOfWeek                              0\n",
      "Operating_Airline                      0\n",
      "DOT_ID_Operating_Airline               0\n",
      "IATA_Code_Operating_Airline            0\n",
      "Flight_Number_Operating_Airline        0\n",
      "OriginAirportID                        0\n",
      "OriginCityName                         0\n",
      "DestAirportID                          0\n",
      "DestCityName                           0\n",
      "dtype: int64\n"
     ]
    }
   ],
   "source": [
    "consolidated_df_diverted = consolidated_data[(consolidated_data['Cancelled'] == False) & (consolidated_data['Diverted'] == True)]\n",
    "print(len(consolidated_df_diverted))\n",
    "print(consolidated_df_diverted.isna().sum())"
   ]
  },
  {
   "cell_type": "markdown",
   "metadata": {},
   "source": [
    "#### _Brief Explanation of following code cell_\n",
    "\n",
    "_Setting values with ArrTime as null to CRSArrTime and DepDelay with the difference in minutes between (DepTime - CRSDepTime)_"
   ]
  },
  {
   "cell_type": "code",
   "execution_count": 25,
   "metadata": {},
   "outputs": [],
   "source": [
    "consolidated_df_diverted.loc[:, 'ArrTime'] = consolidated_df_diverted.loc[:, 'ArrTime'].fillna(value = consolidated_df_diverted.loc[:, 'CRSArrTime'])\n",
    "consolidated_df_diverted.loc[:, 'DepDelay'] = consolidated_df_diverted.loc[:, 'DepDelay'].fillna(value=(consolidated_df_diverted.loc[:, 'DepTime'] - consolidated_df_diverted.loc[:, 'CRSDepTime']))"
   ]
  },
  {
   "cell_type": "markdown",
   "metadata": {},
   "source": [
    "#### _Brief Explanation of following code cell_\n",
    "\n",
    "_Setting ActualElapsedTime is NaN. Minutes (ArrTime - DepTime).\n",
    "Setting CRSElapsedTime is NaN. Minutes (CRSArrTime - CRSDepTime).\n",
    "Setting ArrDelay = Minutes(ArrTime - CRSArrTime)._"
   ]
  },
  {
   "cell_type": "code",
   "execution_count": 26,
   "metadata": {},
   "outputs": [],
   "source": [
    "for i in range(len(consolidated_df_diverted)):\n",
    "    if (math.isnan(consolidated_df_diverted.iloc[i, 14])):\n",
    "        hours = ((consolidated_df_diverted.iloc[i, 10] // 100 - consolidated_df_diverted.iloc[i, 7] // 100) * 60)\n",
    "        mins = (consolidated_df_diverted.iloc[i, 10] % 100 - consolidated_df_diverted.iloc[i, 7] % 100) \n",
    "        consolidated_df_diverted.iloc[i, 14] = hours + mins\n",
    "        \n",
    "for i in range(len(consolidated_df_diverted)):\n",
    "    if (math.isnan(consolidated_df_diverted.iloc[i, 13])):\n",
    "        hours = ((consolidated_df_diverted.iloc[i, 9] // 100 - consolidated_df_diverted.iloc[i, 6] // 100) * 60)\n",
    "        mins = (consolidated_df_diverted.iloc[i, 9] % 100 - consolidated_df_diverted.iloc[i, 6] % 100) \n",
    "        consolidated_df_diverted.iloc[i, 13] = hours + mins\n",
    "        \n",
    "for i in range(len(consolidated_df_diverted)):\n",
    "    if (math.isnan(consolidated_df_diverted.iloc[i, 11])):\n",
    "        hours = ((consolidated_df_diverted.iloc[i, 10] // 100 - consolidated_df_diverted.iloc[i, 9] // 100) * 60)\n",
    "        mins = (consolidated_df_diverted.iloc[i, 10] % 100 - consolidated_df_diverted.iloc[i, 9] % 100) \n",
    "        consolidated_df_diverted.iloc[i, 11] = hours + mins"
   ]
  },
  {
   "cell_type": "markdown",
   "metadata": {},
   "source": [
    "#### _Brief Explanation of following code cell_\n",
    "\n",
    "_Setting values with AirTime as ActualElapsedTime_"
   ]
  },
  {
   "cell_type": "code",
   "execution_count": 27,
   "metadata": {},
   "outputs": [],
   "source": [
    "consolidated_df_diverted.loc[:, 'AirTime'] = consolidated_df_diverted.loc[:, 'ActualElapsedTime']"
   ]
  },
  {
   "cell_type": "markdown",
   "metadata": {},
   "source": [
    "#### _Brief Explanation of following code cell_\n",
    "\n",
    "_Checking if all null values have been handled._"
   ]
  },
  {
   "cell_type": "code",
   "execution_count": 28,
   "metadata": {},
   "outputs": [
    {
     "name": "stdout",
     "output_type": "stream",
     "text": [
      "FlightDate                         0\n",
      "Airline                            0\n",
      "Origin                             0\n",
      "Dest                               0\n",
      "Cancelled                          0\n",
      "Diverted                           0\n",
      "CRSDepTime                         0\n",
      "DepTime                            0\n",
      "DepDelay                           0\n",
      "CRSArrTime                         0\n",
      "ArrTime                            0\n",
      "ArrDelay                           0\n",
      "AirTime                            0\n",
      "CRSElapsedTime                     0\n",
      "ActualElapsedTime                  0\n",
      "Distance                           0\n",
      "Year                               0\n",
      "Quarter                            0\n",
      "Month                              0\n",
      "DayofMonth                         0\n",
      "DayOfWeek                          0\n",
      "Operating_Airline                  0\n",
      "DOT_ID_Operating_Airline           0\n",
      "IATA_Code_Operating_Airline        0\n",
      "Flight_Number_Operating_Airline    0\n",
      "OriginAirportID                    0\n",
      "OriginCityName                     0\n",
      "DestAirportID                      0\n",
      "DestCityName                       0\n",
      "dtype: int64\n"
     ]
    }
   ],
   "source": [
    "print(consolidated_df_diverted.isna().sum())"
   ]
  },
  {
   "cell_type": "markdown",
   "metadata": {},
   "source": [
    "#### _Brief Explanation of following code cell_\n",
    "\n",
    "_Consolidating the data and ordering it by flight date_"
   ]
  },
  {
   "cell_type": "code",
   "execution_count": 29,
   "metadata": {},
   "outputs": [],
   "source": [
    "consolidated_df_cleaned = pd.concat([cleaned_df, consolidated_df_cancelled, consolidated_df_diverted])\n",
    "data = consolidated_df_cleaned.sort_values(by = 'FlightDate')"
   ]
  },
  {
   "cell_type": "markdown",
   "metadata": {},
   "source": [
    "#### _Brief Explanation of following code cell_\n",
    "_To find the minimum airtime for a journey the data of the year 2021 is used._"
   ]
  },
  {
   "cell_type": "code",
   "execution_count": 31,
   "metadata": {},
   "outputs": [],
   "source": [
    "df = data[data['Year'] == 2021]"
   ]
  },
  {
   "cell_type": "markdown",
   "metadata": {},
   "source": [
    "## Objective 1"
   ]
  },
  {
   "cell_type": "markdown",
   "metadata": {},
   "source": [
    "#### _Brief Explanation of following code cell_\n",
    "_Creating a new dataframe with only the required features for analysis_"
   ]
  },
  {
   "cell_type": "code",
   "execution_count": 32,
   "metadata": {},
   "outputs": [],
   "source": [
    "new_data=df[['Airline','Origin','Dest','Cancelled','Diverted','AirTime','IATA_Code_Operating_Airline','Flight_Number_Operating_Airline','OriginCityName','DestCityName']]"
   ]
  },
  {
   "cell_type": "markdown",
   "metadata": {},
   "source": [
    "#### _Brief Explanation of following code cell_\n",
    "_Understanding the structure of the new dataframe created_"
   ]
  },
  {
   "cell_type": "code",
   "execution_count": 33,
   "metadata": {},
   "outputs": [
    {
     "data": {
      "text/plain": [
       "(6311870, 10)"
      ]
     },
     "execution_count": 33,
     "metadata": {},
     "output_type": "execute_result"
    }
   ],
   "source": [
    "new_data.shape"
   ]
  },
  {
   "cell_type": "markdown",
   "metadata": {},
   "source": [
    "#### _Brief Explanation of following code cell_\n",
    "##### Data Cleaning\n",
    "_Negative airtime values were removed_<br>\n",
    "_Removing flights that were cancelled as they do not have an airtime_<br>\n",
    "_Removing flights that had airtime as zero eventhough they were diverted_"
   ]
  },
  {
   "cell_type": "code",
   "execution_count": 34,
   "metadata": {},
   "outputs": [
    {
     "data": {
      "text/html": [
       "<div>\n",
       "<style scoped>\n",
       "    .dataframe tbody tr th:only-of-type {\n",
       "        vertical-align: middle;\n",
       "    }\n",
       "\n",
       "    .dataframe tbody tr th {\n",
       "        vertical-align: top;\n",
       "    }\n",
       "\n",
       "    .dataframe thead th {\n",
       "        text-align: right;\n",
       "    }\n",
       "</style>\n",
       "<table border=\"1\" class=\"dataframe\">\n",
       "  <thead>\n",
       "    <tr style=\"text-align: right;\">\n",
       "      <th></th>\n",
       "      <th>Airline</th>\n",
       "      <th>Origin</th>\n",
       "      <th>Dest</th>\n",
       "      <th>Cancelled</th>\n",
       "      <th>Diverted</th>\n",
       "      <th>AirTime</th>\n",
       "      <th>IATA_Code_Operating_Airline</th>\n",
       "      <th>Flight_Number_Operating_Airline</th>\n",
       "      <th>OriginCityName</th>\n",
       "      <th>DestCityName</th>\n",
       "    </tr>\n",
       "  </thead>\n",
       "  <tbody>\n",
       "    <tr>\n",
       "      <th>3018584</th>\n",
       "      <td>Mesa Airlines Inc.</td>\n",
       "      <td>DFW</td>\n",
       "      <td>MSN</td>\n",
       "      <td>False</td>\n",
       "      <td>False</td>\n",
       "      <td>109.0</td>\n",
       "      <td>YV</td>\n",
       "      <td>5740</td>\n",
       "      <td>Dallas/Fort Worth, TX</td>\n",
       "      <td>Madison, WI</td>\n",
       "    </tr>\n",
       "    <tr>\n",
       "      <th>2871963</th>\n",
       "      <td>SkyWest Airlines Inc.</td>\n",
       "      <td>OAK</td>\n",
       "      <td>SEA</td>\n",
       "      <td>False</td>\n",
       "      <td>False</td>\n",
       "      <td>91.0</td>\n",
       "      <td>OO</td>\n",
       "      <td>3419</td>\n",
       "      <td>Oakland, CA</td>\n",
       "      <td>Seattle, WA</td>\n",
       "    </tr>\n",
       "    <tr>\n",
       "      <th>2871933</th>\n",
       "      <td>SkyWest Airlines Inc.</td>\n",
       "      <td>SFO</td>\n",
       "      <td>LAS</td>\n",
       "      <td>False</td>\n",
       "      <td>False</td>\n",
       "      <td>65.0</td>\n",
       "      <td>OO</td>\n",
       "      <td>3380</td>\n",
       "      <td>San Francisco, CA</td>\n",
       "      <td>Las Vegas, NV</td>\n",
       "    </tr>\n",
       "    <tr>\n",
       "      <th>2871964</th>\n",
       "      <td>SkyWest Airlines Inc.</td>\n",
       "      <td>SEA</td>\n",
       "      <td>OAK</td>\n",
       "      <td>False</td>\n",
       "      <td>False</td>\n",
       "      <td>113.0</td>\n",
       "      <td>OO</td>\n",
       "      <td>3419</td>\n",
       "      <td>Seattle, WA</td>\n",
       "      <td>Oakland, CA</td>\n",
       "    </tr>\n",
       "    <tr>\n",
       "      <th>2722228</th>\n",
       "      <td>American Airlines Inc.</td>\n",
       "      <td>SAN</td>\n",
       "      <td>DFW</td>\n",
       "      <td>False</td>\n",
       "      <td>False</td>\n",
       "      <td>151.0</td>\n",
       "      <td>AA</td>\n",
       "      <td>2444</td>\n",
       "      <td>San Diego, CA</td>\n",
       "      <td>Dallas/Fort Worth, TX</td>\n",
       "    </tr>\n",
       "    <tr>\n",
       "      <th>...</th>\n",
       "      <td>...</td>\n",
       "      <td>...</td>\n",
       "      <td>...</td>\n",
       "      <td>...</td>\n",
       "      <td>...</td>\n",
       "      <td>...</td>\n",
       "      <td>...</td>\n",
       "      <td>...</td>\n",
       "      <td>...</td>\n",
       "      <td>...</td>\n",
       "    </tr>\n",
       "    <tr>\n",
       "      <th>853680</th>\n",
       "      <td>Envoy Air</td>\n",
       "      <td>ORD</td>\n",
       "      <td>CMH</td>\n",
       "      <td>False</td>\n",
       "      <td>False</td>\n",
       "      <td>49.0</td>\n",
       "      <td>MQ</td>\n",
       "      <td>3599</td>\n",
       "      <td>Chicago, IL</td>\n",
       "      <td>Columbus, OH</td>\n",
       "    </tr>\n",
       "    <tr>\n",
       "      <th>638594</th>\n",
       "      <td>American Airlines Inc.</td>\n",
       "      <td>CLT</td>\n",
       "      <td>PHX</td>\n",
       "      <td>False</td>\n",
       "      <td>False</td>\n",
       "      <td>282.0</td>\n",
       "      <td>AA</td>\n",
       "      <td>420</td>\n",
       "      <td>Charlotte, NC</td>\n",
       "      <td>Phoenix, AZ</td>\n",
       "    </tr>\n",
       "    <tr>\n",
       "      <th>855130</th>\n",
       "      <td>Envoy Air</td>\n",
       "      <td>MIA</td>\n",
       "      <td>PIT</td>\n",
       "      <td>False</td>\n",
       "      <td>False</td>\n",
       "      <td>144.0</td>\n",
       "      <td>MQ</td>\n",
       "      <td>3651</td>\n",
       "      <td>Miami, FL</td>\n",
       "      <td>Pittsburgh, PA</td>\n",
       "    </tr>\n",
       "    <tr>\n",
       "      <th>546635</th>\n",
       "      <td>Southwest Airlines Co.</td>\n",
       "      <td>BUR</td>\n",
       "      <td>PHX</td>\n",
       "      <td>False</td>\n",
       "      <td>False</td>\n",
       "      <td>56.0</td>\n",
       "      <td>WN</td>\n",
       "      <td>1464</td>\n",
       "      <td>Burbank, CA</td>\n",
       "      <td>Phoenix, AZ</td>\n",
       "    </tr>\n",
       "    <tr>\n",
       "      <th>546625</th>\n",
       "      <td>Southwest Airlines Co.</td>\n",
       "      <td>BUR</td>\n",
       "      <td>OAK</td>\n",
       "      <td>False</td>\n",
       "      <td>False</td>\n",
       "      <td>57.0</td>\n",
       "      <td>WN</td>\n",
       "      <td>1693</td>\n",
       "      <td>Burbank, CA</td>\n",
       "      <td>Oakland, CA</td>\n",
       "    </tr>\n",
       "  </tbody>\n",
       "</table>\n",
       "<p>6197912 rows × 10 columns</p>\n",
       "</div>"
      ],
      "text/plain": [
       "                        Airline Origin Dest  Cancelled  Diverted  AirTime  \\\n",
       "3018584      Mesa Airlines Inc.    DFW  MSN      False     False    109.0   \n",
       "2871963   SkyWest Airlines Inc.    OAK  SEA      False     False     91.0   \n",
       "2871933   SkyWest Airlines Inc.    SFO  LAS      False     False     65.0   \n",
       "2871964   SkyWest Airlines Inc.    SEA  OAK      False     False    113.0   \n",
       "2722228  American Airlines Inc.    SAN  DFW      False     False    151.0   \n",
       "...                         ...    ...  ...        ...       ...      ...   \n",
       "853680                Envoy Air    ORD  CMH      False     False     49.0   \n",
       "638594   American Airlines Inc.    CLT  PHX      False     False    282.0   \n",
       "855130                Envoy Air    MIA  PIT      False     False    144.0   \n",
       "546635   Southwest Airlines Co.    BUR  PHX      False     False     56.0   \n",
       "546625   Southwest Airlines Co.    BUR  OAK      False     False     57.0   \n",
       "\n",
       "        IATA_Code_Operating_Airline  Flight_Number_Operating_Airline  \\\n",
       "3018584                          YV                             5740   \n",
       "2871963                          OO                             3419   \n",
       "2871933                          OO                             3380   \n",
       "2871964                          OO                             3419   \n",
       "2722228                          AA                             2444   \n",
       "...                             ...                              ...   \n",
       "853680                           MQ                             3599   \n",
       "638594                           AA                              420   \n",
       "855130                           MQ                             3651   \n",
       "546635                           WN                             1464   \n",
       "546625                           WN                             1693   \n",
       "\n",
       "                OriginCityName           DestCityName  \n",
       "3018584  Dallas/Fort Worth, TX            Madison, WI  \n",
       "2871963            Oakland, CA            Seattle, WA  \n",
       "2871933      San Francisco, CA          Las Vegas, NV  \n",
       "2871964            Seattle, WA            Oakland, CA  \n",
       "2722228          San Diego, CA  Dallas/Fort Worth, TX  \n",
       "...                        ...                    ...  \n",
       "853680             Chicago, IL           Columbus, OH  \n",
       "638594           Charlotte, NC            Phoenix, AZ  \n",
       "855130               Miami, FL         Pittsburgh, PA  \n",
       "546635             Burbank, CA            Phoenix, AZ  \n",
       "546625             Burbank, CA            Oakland, CA  \n",
       "\n",
       "[6197912 rows x 10 columns]"
      ]
     },
     "execution_count": 34,
     "metadata": {},
     "output_type": "execute_result"
    }
   ],
   "source": [
    "new_data=new_data[new_data['AirTime']>=0]\n",
    "new_data=new_data[new_data['Cancelled']== False]\n",
    "new_data.drop(new_data[(new_data['Diverted']==True) & (new_data['AirTime']==0)].index)"
   ]
  },
  {
   "cell_type": "markdown",
   "metadata": {},
   "source": [
    "#### _Brief Explanation of following code cell_\n",
    "_Taking the origin and destination airport codes as input_ "
   ]
  },
  {
   "cell_type": "code",
   "execution_count": 35,
   "metadata": {},
   "outputs": [
    {
     "name": "stdout",
     "output_type": "stream",
     "text": [
      "Enter the airport code for the origin airport:CLT\n",
      "Enter the airport code for the destination airport:PHX\n"
     ]
    }
   ],
   "source": [
    "origin=input(\"Enter the airport code for the origin airport:\")\n",
    "destination=input(\"Enter the airport code for the destination airport:\")"
   ]
  },
  {
   "cell_type": "markdown",
   "metadata": {},
   "source": [
    "#### _Brief Explanation of following code cell_\n",
    "_Creating a dataframe that corresponds to the airport codes entered as input_<br>\n",
    "_Sorting the dataframe in ascending order with respect to airtime_"
   ]
  },
  {
   "cell_type": "code",
   "execution_count": 36,
   "metadata": {},
   "outputs": [],
   "source": [
    "df1=new_data[(new_data['Origin']==origin) & (new_data['Dest']==destination)]\n",
    "df1=df1.sort_values(by=['AirTime'],ascending=True)"
   ]
  },
  {
   "cell_type": "markdown",
   "metadata": {},
   "source": [
    "#### _Brief Explanation of following code cell_\n",
    "_a function is created to return the Top 5 carriers from given origin to destination_"
   ]
  },
  {
   "cell_type": "code",
   "execution_count": 37,
   "metadata": {},
   "outputs": [
    {
     "name": "stdout",
     "output_type": "stream",
     "text": [
      "TOP 5 FLIGHTS FROM CLT TO PHX\n",
      "1.Airline: American Airlines Inc.\n",
      "  Flight code: AA1678\n",
      "  Airtime: 199.0\n",
      "2.Airline: American Airlines Inc.\n",
      "  Flight code: AA778\n",
      "  Airtime: 203.0\n",
      "3.Airline: American Airlines Inc.\n",
      "  Flight code: AA507\n",
      "  Airtime: 207.0\n",
      "4.Airline: American Airlines Inc.\n",
      "  Flight code: AA588\n",
      "  Airtime: 208.0\n",
      "5.Airline: American Airlines Inc.\n",
      "  Flight code: AA428\n",
      "  Airtime: 208.0\n"
     ]
    }
   ],
   "source": [
    "def min_airtime(o,d):\n",
    "    print('TOP 5 FLIGHTS FROM {} TO {}'.format(o,d))\n",
    "    for i in range(5):\n",
    "        print('{}.Airline: {}\\n  Flight code: {}{}\\n  Airtime: {}'.format(i+1,df1['Airline'].iat[i],df1['IATA_Code_Operating_Airline'].iat[i],df1['Flight_Number_Operating_Airline'].iat[i],df1['AirTime'].iat[i]))\n",
    "#function call\n",
    "min_airtime(origin,destination)   "
   ]
  },
  {
   "cell_type": "markdown",
   "metadata": {},
   "source": [
    "#### _Brief Explanation of following code cell_\n",
    "_A function is created for getting a pie chart_<br>\n",
    "_The mean airtime is computed and flights that took time less than or equal to mean and greater than mean is found and added as a new column to the dataframe_<br>\n",
    "_The pie chart is ploted into 2 categories_"
   ]
  },
  {
   "cell_type": "code",
   "execution_count": 38,
   "metadata": {},
   "outputs": [],
   "source": [
    " def plot_pie():\n",
    "    mean=df1['AirTime'].mean()\n",
    "    lower_airtime=[]\n",
    "    for row in df1['AirTime']:\n",
    "        if row <= mean:\n",
    "            lower_airtime.append(True)\n",
    "        else:\n",
    "            lower_airtime.append(False)\n",
    "    df1['lower_airtime']=lower_airtime\n",
    "    count=df1['lower_airtime'].value_counts()\n",
    "    x=count[0]\n",
    "    y=count[1]\n",
    "    fig, ax = plt.subplots()\n",
    "    ax.pie([x, y], labels = ['Flights with airtime higher than average', 'Flights with airtime lower than or equal to average'], autopct = '%.1f%%')\n",
    "    plt.show()"
   ]
  },
  {
   "cell_type": "markdown",
   "metadata": {},
   "source": [
    "## Objective 2"
   ]
  },
  {
   "cell_type": "markdown",
   "metadata": {},
   "source": [
    "#### _Brief Explanation of following code cell_\n",
    "_Extracting the required features for analysing the reliability of airlines and storing it into a new dataframe_"
   ]
  },
  {
   "cell_type": "code",
   "execution_count": 39,
   "metadata": {},
   "outputs": [],
   "source": [
    "airlines_df = df[['FlightDate','Airline','Origin','Dest','Cancelled','Diverted','DepDelay',\n",
    "           'ArrDelay','OriginCityName','DestCityName',\n",
    "           'IATA_Code_Operating_Airline','Flight_Number_Operating_Airline']]"
   ]
  },
  {
   "cell_type": "markdown",
   "metadata": {},
   "source": [
    "#### _Brief Explanation of following code cell_\n",
    "_Finding the count of total flights for each Airline in the year 2021_"
   ]
  },
  {
   "cell_type": "code",
   "execution_count": 40,
   "metadata": {},
   "outputs": [],
   "source": [
    "total_airlines=airlines_df['Airline'].value_counts().rename_axis('Airline').reset_index(name='Total_Flights')"
   ]
  },
  {
   "cell_type": "code",
   "execution_count": 41,
   "metadata": {},
   "outputs": [
    {
     "data": {
      "text/html": [
       "<div>\n",
       "<style scoped>\n",
       "    .dataframe tbody tr th:only-of-type {\n",
       "        vertical-align: middle;\n",
       "    }\n",
       "\n",
       "    .dataframe tbody tr th {\n",
       "        vertical-align: top;\n",
       "    }\n",
       "\n",
       "    .dataframe thead th {\n",
       "        text-align: right;\n",
       "    }\n",
       "</style>\n",
       "<table border=\"1\" class=\"dataframe\">\n",
       "  <thead>\n",
       "    <tr style=\"text-align: right;\">\n",
       "      <th></th>\n",
       "      <th>Airline</th>\n",
       "      <th>Total_Flights</th>\n",
       "    </tr>\n",
       "  </thead>\n",
       "  <tbody>\n",
       "    <tr>\n",
       "      <th>0</th>\n",
       "      <td>Southwest Airlines Co.</td>\n",
       "      <td>1064640</td>\n",
       "    </tr>\n",
       "    <tr>\n",
       "      <th>1</th>\n",
       "      <td>SkyWest Airlines Inc.</td>\n",
       "      <td>753343</td>\n",
       "    </tr>\n",
       "    <tr>\n",
       "      <th>2</th>\n",
       "      <td>Delta Air Lines Inc.</td>\n",
       "      <td>747998</td>\n",
       "    </tr>\n",
       "    <tr>\n",
       "      <th>3</th>\n",
       "      <td>American Airlines Inc.</td>\n",
       "      <td>736399</td>\n",
       "    </tr>\n",
       "    <tr>\n",
       "      <th>4</th>\n",
       "      <td>United Air Lines Inc.</td>\n",
       "      <td>446837</td>\n",
       "    </tr>\n",
       "    <tr>\n",
       "      <th>5</th>\n",
       "      <td>Republic Airlines</td>\n",
       "      <td>332925</td>\n",
       "    </tr>\n",
       "    <tr>\n",
       "      <th>6</th>\n",
       "      <td>Endeavor Air Inc.</td>\n",
       "      <td>266867</td>\n",
       "    </tr>\n",
       "    <tr>\n",
       "      <th>7</th>\n",
       "      <td>Envoy Air</td>\n",
       "      <td>255751</td>\n",
       "    </tr>\n",
       "    <tr>\n",
       "      <th>8</th>\n",
       "      <td>Comair Inc.</td>\n",
       "      <td>222602</td>\n",
       "    </tr>\n",
       "    <tr>\n",
       "      <th>9</th>\n",
       "      <td>JetBlue Airways</td>\n",
       "      <td>202702</td>\n",
       "    </tr>\n",
       "    <tr>\n",
       "      <th>10</th>\n",
       "      <td>Spirit Air Lines</td>\n",
       "      <td>191361</td>\n",
       "    </tr>\n",
       "    <tr>\n",
       "      <th>11</th>\n",
       "      <td>Alaska Airlines Inc.</td>\n",
       "      <td>188955</td>\n",
       "    </tr>\n",
       "    <tr>\n",
       "      <th>12</th>\n",
       "      <td>Mesa Airlines Inc.</td>\n",
       "      <td>159789</td>\n",
       "    </tr>\n",
       "    <tr>\n",
       "      <th>13</th>\n",
       "      <td>Frontier Airlines Inc.</td>\n",
       "      <td>137142</td>\n",
       "    </tr>\n",
       "    <tr>\n",
       "      <th>14</th>\n",
       "      <td>Allegiant Air</td>\n",
       "      <td>115881</td>\n",
       "    </tr>\n",
       "    <tr>\n",
       "      <th>15</th>\n",
       "      <td>Horizon Air</td>\n",
       "      <td>111628</td>\n",
       "    </tr>\n",
       "    <tr>\n",
       "      <th>16</th>\n",
       "      <td>Capital Cargo International</td>\n",
       "      <td>99331</td>\n",
       "    </tr>\n",
       "    <tr>\n",
       "      <th>17</th>\n",
       "      <td>Air Wisconsin Airlines Corp</td>\n",
       "      <td>80256</td>\n",
       "    </tr>\n",
       "    <tr>\n",
       "      <th>18</th>\n",
       "      <td>Commutair Aka Champlain Enterprises, Inc.</td>\n",
       "      <td>76666</td>\n",
       "    </tr>\n",
       "    <tr>\n",
       "      <th>19</th>\n",
       "      <td>Hawaiian Airlines Inc.</td>\n",
       "      <td>60542</td>\n",
       "    </tr>\n",
       "    <tr>\n",
       "      <th>20</th>\n",
       "      <td>GoJet Airlines, LLC d/b/a United Express</td>\n",
       "      <td>60143</td>\n",
       "    </tr>\n",
       "    <tr>\n",
       "      <th>21</th>\n",
       "      <td>Empire Airlines Inc.</td>\n",
       "      <td>112</td>\n",
       "    </tr>\n",
       "  </tbody>\n",
       "</table>\n",
       "</div>"
      ],
      "text/plain": [
       "                                      Airline  Total_Flights\n",
       "0                      Southwest Airlines Co.        1064640\n",
       "1                       SkyWest Airlines Inc.         753343\n",
       "2                        Delta Air Lines Inc.         747998\n",
       "3                      American Airlines Inc.         736399\n",
       "4                       United Air Lines Inc.         446837\n",
       "5                           Republic Airlines         332925\n",
       "6                           Endeavor Air Inc.         266867\n",
       "7                                   Envoy Air         255751\n",
       "8                                 Comair Inc.         222602\n",
       "9                             JetBlue Airways         202702\n",
       "10                           Spirit Air Lines         191361\n",
       "11                       Alaska Airlines Inc.         188955\n",
       "12                         Mesa Airlines Inc.         159789\n",
       "13                     Frontier Airlines Inc.         137142\n",
       "14                              Allegiant Air         115881\n",
       "15                                Horizon Air         111628\n",
       "16                Capital Cargo International          99331\n",
       "17                Air Wisconsin Airlines Corp          80256\n",
       "18  Commutair Aka Champlain Enterprises, Inc.          76666\n",
       "19                     Hawaiian Airlines Inc.          60542\n",
       "20   GoJet Airlines, LLC d/b/a United Express          60143\n",
       "21                       Empire Airlines Inc.            112"
      ]
     },
     "execution_count": 41,
     "metadata": {},
     "output_type": "execute_result"
    }
   ],
   "source": [
    "total_airlines"
   ]
  },
  {
   "cell_type": "markdown",
   "metadata": {},
   "source": [
    "#### _Brief Explanation of following code cell_\n",
    "_Creating dataframes for Diverted Flights, Cancelled Flights and Flights that are delayed for more than 45 minutes_"
   ]
  },
  {
   "cell_type": "code",
   "execution_count": 42,
   "metadata": {},
   "outputs": [],
   "source": [
    "diverted_df = airlines_df[ airlines_df['Diverted'] == True]\n",
    "cancelled_df = airlines_df[ airlines_df['Cancelled'] == True]\n",
    "delayed_df = airlines_df[ airlines_df['ArrDelay'] >= 45]"
   ]
  },
  {
   "cell_type": "markdown",
   "metadata": {},
   "source": [
    "#### _Brief Explanation of following code cell_\n",
    "_Finding the count of total diverted, cancelled and delayed(for more than 45 minutes) flights for each Airline in the year 2021_"
   ]
  },
  {
   "cell_type": "code",
   "execution_count": 43,
   "metadata": {},
   "outputs": [],
   "source": [
    "total_diverted_airlines=diverted_df['Airline'].value_counts().rename_axis('Airline').reset_index(name='Total_Diverted_Flights')\n",
    "total_cancelled_airlines=cancelled_df['Airline'].value_counts().rename_axis('Airline').reset_index(name='Total_Cancelled_Flights')\n",
    "total_delayed_airlines=delayed_df['Airline'].value_counts().rename_axis('Airline').reset_index(name='Total_Delayed_Flights')"
   ]
  },
  {
   "cell_type": "markdown",
   "metadata": {},
   "source": [
    "#### _Brief Explanation of following code cell_\n",
    "_Total diverted flights for each Airline in the year 2021_"
   ]
  },
  {
   "cell_type": "code",
   "execution_count": 44,
   "metadata": {},
   "outputs": [
    {
     "data": {
      "text/html": [
       "<div>\n",
       "<style scoped>\n",
       "    .dataframe tbody tr th:only-of-type {\n",
       "        vertical-align: middle;\n",
       "    }\n",
       "\n",
       "    .dataframe tbody tr th {\n",
       "        vertical-align: top;\n",
       "    }\n",
       "\n",
       "    .dataframe thead th {\n",
       "        text-align: right;\n",
       "    }\n",
       "</style>\n",
       "<table border=\"1\" class=\"dataframe\">\n",
       "  <thead>\n",
       "    <tr style=\"text-align: right;\">\n",
       "      <th></th>\n",
       "      <th>Airline</th>\n",
       "      <th>Total_Diverted_Flights</th>\n",
       "    </tr>\n",
       "  </thead>\n",
       "  <tbody>\n",
       "    <tr>\n",
       "      <th>0</th>\n",
       "      <td>Southwest Airlines Co.</td>\n",
       "      <td>2375</td>\n",
       "    </tr>\n",
       "    <tr>\n",
       "      <th>1</th>\n",
       "      <td>SkyWest Airlines Inc.</td>\n",
       "      <td>2134</td>\n",
       "    </tr>\n",
       "    <tr>\n",
       "      <th>2</th>\n",
       "      <td>American Airlines Inc.</td>\n",
       "      <td>2090</td>\n",
       "    </tr>\n",
       "    <tr>\n",
       "      <th>3</th>\n",
       "      <td>Delta Air Lines Inc.</td>\n",
       "      <td>1319</td>\n",
       "    </tr>\n",
       "    <tr>\n",
       "      <th>4</th>\n",
       "      <td>United Air Lines Inc.</td>\n",
       "      <td>1076</td>\n",
       "    </tr>\n",
       "    <tr>\n",
       "      <th>5</th>\n",
       "      <td>JetBlue Airways</td>\n",
       "      <td>822</td>\n",
       "    </tr>\n",
       "    <tr>\n",
       "      <th>6</th>\n",
       "      <td>Republic Airlines</td>\n",
       "      <td>749</td>\n",
       "    </tr>\n",
       "    <tr>\n",
       "      <th>7</th>\n",
       "      <td>Envoy Air</td>\n",
       "      <td>666</td>\n",
       "    </tr>\n",
       "    <tr>\n",
       "      <th>8</th>\n",
       "      <td>Comair Inc.</td>\n",
       "      <td>503</td>\n",
       "    </tr>\n",
       "    <tr>\n",
       "      <th>9</th>\n",
       "      <td>Mesa Airlines Inc.</td>\n",
       "      <td>471</td>\n",
       "    </tr>\n",
       "    <tr>\n",
       "      <th>10</th>\n",
       "      <td>Alaska Airlines Inc.</td>\n",
       "      <td>432</td>\n",
       "    </tr>\n",
       "    <tr>\n",
       "      <th>11</th>\n",
       "      <td>Endeavor Air Inc.</td>\n",
       "      <td>422</td>\n",
       "    </tr>\n",
       "    <tr>\n",
       "      <th>12</th>\n",
       "      <td>Spirit Air Lines</td>\n",
       "      <td>414</td>\n",
       "    </tr>\n",
       "    <tr>\n",
       "      <th>13</th>\n",
       "      <td>Capital Cargo International</td>\n",
       "      <td>315</td>\n",
       "    </tr>\n",
       "    <tr>\n",
       "      <th>14</th>\n",
       "      <td>Commutair Aka Champlain Enterprises, Inc.</td>\n",
       "      <td>284</td>\n",
       "    </tr>\n",
       "    <tr>\n",
       "      <th>15</th>\n",
       "      <td>Allegiant Air</td>\n",
       "      <td>250</td>\n",
       "    </tr>\n",
       "    <tr>\n",
       "      <th>16</th>\n",
       "      <td>Frontier Airlines Inc.</td>\n",
       "      <td>181</td>\n",
       "    </tr>\n",
       "    <tr>\n",
       "      <th>17</th>\n",
       "      <td>Horizon Air</td>\n",
       "      <td>172</td>\n",
       "    </tr>\n",
       "    <tr>\n",
       "      <th>18</th>\n",
       "      <td>GoJet Airlines, LLC d/b/a United Express</td>\n",
       "      <td>134</td>\n",
       "    </tr>\n",
       "    <tr>\n",
       "      <th>19</th>\n",
       "      <td>Air Wisconsin Airlines Corp</td>\n",
       "      <td>132</td>\n",
       "    </tr>\n",
       "    <tr>\n",
       "      <th>20</th>\n",
       "      <td>Hawaiian Airlines Inc.</td>\n",
       "      <td>41</td>\n",
       "    </tr>\n",
       "  </tbody>\n",
       "</table>\n",
       "</div>"
      ],
      "text/plain": [
       "                                      Airline  Total_Diverted_Flights\n",
       "0                      Southwest Airlines Co.                    2375\n",
       "1                       SkyWest Airlines Inc.                    2134\n",
       "2                      American Airlines Inc.                    2090\n",
       "3                        Delta Air Lines Inc.                    1319\n",
       "4                       United Air Lines Inc.                    1076\n",
       "5                             JetBlue Airways                     822\n",
       "6                           Republic Airlines                     749\n",
       "7                                   Envoy Air                     666\n",
       "8                                 Comair Inc.                     503\n",
       "9                          Mesa Airlines Inc.                     471\n",
       "10                       Alaska Airlines Inc.                     432\n",
       "11                          Endeavor Air Inc.                     422\n",
       "12                           Spirit Air Lines                     414\n",
       "13                Capital Cargo International                     315\n",
       "14  Commutair Aka Champlain Enterprises, Inc.                     284\n",
       "15                              Allegiant Air                     250\n",
       "16                     Frontier Airlines Inc.                     181\n",
       "17                                Horizon Air                     172\n",
       "18   GoJet Airlines, LLC d/b/a United Express                     134\n",
       "19                Air Wisconsin Airlines Corp                     132\n",
       "20                     Hawaiian Airlines Inc.                      41"
      ]
     },
     "execution_count": 44,
     "metadata": {},
     "output_type": "execute_result"
    }
   ],
   "source": [
    "total_diverted_airlines"
   ]
  },
  {
   "cell_type": "markdown",
   "metadata": {},
   "source": [
    "#### _Brief Explanation of following code cell_\n",
    "_Total cancelled flights for each Airline in the year 2021_"
   ]
  },
  {
   "cell_type": "code",
   "execution_count": 45,
   "metadata": {},
   "outputs": [
    {
     "data": {
      "text/html": [
       "<div>\n",
       "<style scoped>\n",
       "    .dataframe tbody tr th:only-of-type {\n",
       "        vertical-align: middle;\n",
       "    }\n",
       "\n",
       "    .dataframe tbody tr th {\n",
       "        vertical-align: top;\n",
       "    }\n",
       "\n",
       "    .dataframe thead th {\n",
       "        text-align: right;\n",
       "    }\n",
       "</style>\n",
       "<table border=\"1\" class=\"dataframe\">\n",
       "  <thead>\n",
       "    <tr style=\"text-align: right;\">\n",
       "      <th></th>\n",
       "      <th>Airline</th>\n",
       "      <th>Total_Cancelled_Flights</th>\n",
       "    </tr>\n",
       "  </thead>\n",
       "  <tbody>\n",
       "    <tr>\n",
       "      <th>0</th>\n",
       "      <td>Southwest Airlines Co.</td>\n",
       "      <td>23505</td>\n",
       "    </tr>\n",
       "    <tr>\n",
       "      <th>1</th>\n",
       "      <td>American Airlines Inc.</td>\n",
       "      <td>16478</td>\n",
       "    </tr>\n",
       "    <tr>\n",
       "      <th>2</th>\n",
       "      <td>SkyWest Airlines Inc.</td>\n",
       "      <td>13323</td>\n",
       "    </tr>\n",
       "    <tr>\n",
       "      <th>3</th>\n",
       "      <td>United Air Lines Inc.</td>\n",
       "      <td>6107</td>\n",
       "    </tr>\n",
       "    <tr>\n",
       "      <th>4</th>\n",
       "      <td>Envoy Air</td>\n",
       "      <td>5686</td>\n",
       "    </tr>\n",
       "    <tr>\n",
       "      <th>5</th>\n",
       "      <td>Spirit Air Lines</td>\n",
       "      <td>5661</td>\n",
       "    </tr>\n",
       "    <tr>\n",
       "      <th>6</th>\n",
       "      <td>Republic Airlines</td>\n",
       "      <td>5647</td>\n",
       "    </tr>\n",
       "    <tr>\n",
       "      <th>7</th>\n",
       "      <td>Mesa Airlines Inc.</td>\n",
       "      <td>4763</td>\n",
       "    </tr>\n",
       "    <tr>\n",
       "      <th>8</th>\n",
       "      <td>Allegiant Air</td>\n",
       "      <td>3829</td>\n",
       "    </tr>\n",
       "    <tr>\n",
       "      <th>9</th>\n",
       "      <td>Delta Air Lines Inc.</td>\n",
       "      <td>3631</td>\n",
       "    </tr>\n",
       "    <tr>\n",
       "      <th>10</th>\n",
       "      <td>JetBlue Airways</td>\n",
       "      <td>3299</td>\n",
       "    </tr>\n",
       "    <tr>\n",
       "      <th>11</th>\n",
       "      <td>Alaska Airlines Inc.</td>\n",
       "      <td>3217</td>\n",
       "    </tr>\n",
       "    <tr>\n",
       "      <th>12</th>\n",
       "      <td>Commutair Aka Champlain Enterprises, Inc.</td>\n",
       "      <td>2489</td>\n",
       "    </tr>\n",
       "    <tr>\n",
       "      <th>13</th>\n",
       "      <td>Air Wisconsin Airlines Corp</td>\n",
       "      <td>2409</td>\n",
       "    </tr>\n",
       "    <tr>\n",
       "      <th>14</th>\n",
       "      <td>Comair Inc.</td>\n",
       "      <td>2254</td>\n",
       "    </tr>\n",
       "    <tr>\n",
       "      <th>15</th>\n",
       "      <td>GoJet Airlines, LLC d/b/a United Express</td>\n",
       "      <td>2134</td>\n",
       "    </tr>\n",
       "    <tr>\n",
       "      <th>16</th>\n",
       "      <td>Horizon Air</td>\n",
       "      <td>2096</td>\n",
       "    </tr>\n",
       "    <tr>\n",
       "      <th>17</th>\n",
       "      <td>Frontier Airlines Inc.</td>\n",
       "      <td>1929</td>\n",
       "    </tr>\n",
       "    <tr>\n",
       "      <th>18</th>\n",
       "      <td>Capital Cargo International</td>\n",
       "      <td>1323</td>\n",
       "    </tr>\n",
       "    <tr>\n",
       "      <th>19</th>\n",
       "      <td>Endeavor Air Inc.</td>\n",
       "      <td>974</td>\n",
       "    </tr>\n",
       "    <tr>\n",
       "      <th>20</th>\n",
       "      <td>Hawaiian Airlines Inc.</td>\n",
       "      <td>264</td>\n",
       "    </tr>\n",
       "  </tbody>\n",
       "</table>\n",
       "</div>"
      ],
      "text/plain": [
       "                                      Airline  Total_Cancelled_Flights\n",
       "0                      Southwest Airlines Co.                    23505\n",
       "1                      American Airlines Inc.                    16478\n",
       "2                       SkyWest Airlines Inc.                    13323\n",
       "3                       United Air Lines Inc.                     6107\n",
       "4                                   Envoy Air                     5686\n",
       "5                            Spirit Air Lines                     5661\n",
       "6                           Republic Airlines                     5647\n",
       "7                          Mesa Airlines Inc.                     4763\n",
       "8                               Allegiant Air                     3829\n",
       "9                        Delta Air Lines Inc.                     3631\n",
       "10                            JetBlue Airways                     3299\n",
       "11                       Alaska Airlines Inc.                     3217\n",
       "12  Commutair Aka Champlain Enterprises, Inc.                     2489\n",
       "13                Air Wisconsin Airlines Corp                     2409\n",
       "14                                Comair Inc.                     2254\n",
       "15   GoJet Airlines, LLC d/b/a United Express                     2134\n",
       "16                                Horizon Air                     2096\n",
       "17                     Frontier Airlines Inc.                     1929\n",
       "18                Capital Cargo International                     1323\n",
       "19                          Endeavor Air Inc.                      974\n",
       "20                     Hawaiian Airlines Inc.                      264"
      ]
     },
     "execution_count": 45,
     "metadata": {},
     "output_type": "execute_result"
    }
   ],
   "source": [
    "total_cancelled_airlines"
   ]
  },
  {
   "cell_type": "markdown",
   "metadata": {},
   "source": [
    "#### _Brief Explanation of following code cell_\n",
    "_Total flights delayed for more than 45 minutes for each Airline in the year 2021_"
   ]
  },
  {
   "cell_type": "code",
   "execution_count": 46,
   "metadata": {},
   "outputs": [
    {
     "data": {
      "text/html": [
       "<div>\n",
       "<style scoped>\n",
       "    .dataframe tbody tr th:only-of-type {\n",
       "        vertical-align: middle;\n",
       "    }\n",
       "\n",
       "    .dataframe tbody tr th {\n",
       "        vertical-align: top;\n",
       "    }\n",
       "\n",
       "    .dataframe thead th {\n",
       "        text-align: right;\n",
       "    }\n",
       "</style>\n",
       "<table border=\"1\" class=\"dataframe\">\n",
       "  <thead>\n",
       "    <tr style=\"text-align: right;\">\n",
       "      <th></th>\n",
       "      <th>Airline</th>\n",
       "      <th>Total_Delayed_Flights</th>\n",
       "    </tr>\n",
       "  </thead>\n",
       "  <tbody>\n",
       "    <tr>\n",
       "      <th>0</th>\n",
       "      <td>Southwest Airlines Co.</td>\n",
       "      <td>89629</td>\n",
       "    </tr>\n",
       "    <tr>\n",
       "      <th>1</th>\n",
       "      <td>American Airlines Inc.</td>\n",
       "      <td>59850</td>\n",
       "    </tr>\n",
       "    <tr>\n",
       "      <th>2</th>\n",
       "      <td>SkyWest Airlines Inc.</td>\n",
       "      <td>58781</td>\n",
       "    </tr>\n",
       "    <tr>\n",
       "      <th>3</th>\n",
       "      <td>Delta Air Lines Inc.</td>\n",
       "      <td>34407</td>\n",
       "    </tr>\n",
       "    <tr>\n",
       "      <th>4</th>\n",
       "      <td>United Air Lines Inc.</td>\n",
       "      <td>33404</td>\n",
       "    </tr>\n",
       "    <tr>\n",
       "      <th>5</th>\n",
       "      <td>JetBlue Airways</td>\n",
       "      <td>26346</td>\n",
       "    </tr>\n",
       "    <tr>\n",
       "      <th>6</th>\n",
       "      <td>Republic Airlines</td>\n",
       "      <td>21231</td>\n",
       "    </tr>\n",
       "    <tr>\n",
       "      <th>7</th>\n",
       "      <td>Spirit Air Lines</td>\n",
       "      <td>17749</td>\n",
       "    </tr>\n",
       "    <tr>\n",
       "      <th>8</th>\n",
       "      <td>Envoy Air</td>\n",
       "      <td>17036</td>\n",
       "    </tr>\n",
       "    <tr>\n",
       "      <th>9</th>\n",
       "      <td>Mesa Airlines Inc.</td>\n",
       "      <td>16947</td>\n",
       "    </tr>\n",
       "    <tr>\n",
       "      <th>10</th>\n",
       "      <td>Allegiant Air</td>\n",
       "      <td>15405</td>\n",
       "    </tr>\n",
       "    <tr>\n",
       "      <th>11</th>\n",
       "      <td>Frontier Airlines Inc.</td>\n",
       "      <td>14575</td>\n",
       "    </tr>\n",
       "    <tr>\n",
       "      <th>12</th>\n",
       "      <td>Comair Inc.</td>\n",
       "      <td>14405</td>\n",
       "    </tr>\n",
       "    <tr>\n",
       "      <th>13</th>\n",
       "      <td>Endeavor Air Inc.</td>\n",
       "      <td>10697</td>\n",
       "    </tr>\n",
       "    <tr>\n",
       "      <th>14</th>\n",
       "      <td>Alaska Airlines Inc.</td>\n",
       "      <td>10415</td>\n",
       "    </tr>\n",
       "    <tr>\n",
       "      <th>15</th>\n",
       "      <td>Commutair Aka Champlain Enterprises, Inc.</td>\n",
       "      <td>9958</td>\n",
       "    </tr>\n",
       "    <tr>\n",
       "      <th>16</th>\n",
       "      <td>Air Wisconsin Airlines Corp</td>\n",
       "      <td>8394</td>\n",
       "    </tr>\n",
       "    <tr>\n",
       "      <th>17</th>\n",
       "      <td>Capital Cargo International</td>\n",
       "      <td>6289</td>\n",
       "    </tr>\n",
       "    <tr>\n",
       "      <th>18</th>\n",
       "      <td>GoJet Airlines, LLC d/b/a United Express</td>\n",
       "      <td>6126</td>\n",
       "    </tr>\n",
       "    <tr>\n",
       "      <th>19</th>\n",
       "      <td>Horizon Air</td>\n",
       "      <td>5004</td>\n",
       "    </tr>\n",
       "    <tr>\n",
       "      <th>20</th>\n",
       "      <td>Hawaiian Airlines Inc.</td>\n",
       "      <td>1252</td>\n",
       "    </tr>\n",
       "    <tr>\n",
       "      <th>21</th>\n",
       "      <td>Empire Airlines Inc.</td>\n",
       "      <td>5</td>\n",
       "    </tr>\n",
       "  </tbody>\n",
       "</table>\n",
       "</div>"
      ],
      "text/plain": [
       "                                      Airline  Total_Delayed_Flights\n",
       "0                      Southwest Airlines Co.                  89629\n",
       "1                      American Airlines Inc.                  59850\n",
       "2                       SkyWest Airlines Inc.                  58781\n",
       "3                        Delta Air Lines Inc.                  34407\n",
       "4                       United Air Lines Inc.                  33404\n",
       "5                             JetBlue Airways                  26346\n",
       "6                           Republic Airlines                  21231\n",
       "7                            Spirit Air Lines                  17749\n",
       "8                                   Envoy Air                  17036\n",
       "9                          Mesa Airlines Inc.                  16947\n",
       "10                              Allegiant Air                  15405\n",
       "11                     Frontier Airlines Inc.                  14575\n",
       "12                                Comair Inc.                  14405\n",
       "13                          Endeavor Air Inc.                  10697\n",
       "14                       Alaska Airlines Inc.                  10415\n",
       "15  Commutair Aka Champlain Enterprises, Inc.                   9958\n",
       "16                Air Wisconsin Airlines Corp                   8394\n",
       "17                Capital Cargo International                   6289\n",
       "18   GoJet Airlines, LLC d/b/a United Express                   6126\n",
       "19                                Horizon Air                   5004\n",
       "20                     Hawaiian Airlines Inc.                   1252\n",
       "21                       Empire Airlines Inc.                      5"
      ]
     },
     "execution_count": 46,
     "metadata": {},
     "output_type": "execute_result"
    }
   ],
   "source": [
    "total_delayed_airlines"
   ]
  },
  {
   "cell_type": "markdown",
   "metadata": {},
   "source": [
    "#### _Brief Explanation of following code cell_\n",
    "_Function definition to calculate the percentage of diverted, cancelled and delayed flights with respect to the total flights for each Airline. Also calculating the total of all the percentages to see which airline is the most reliable after considering all three factors._"
   ]
  },
  {
   "cell_type": "code",
   "execution_count": 47,
   "metadata": {},
   "outputs": [],
   "source": [
    "def airlineReliability():\n",
    "    temp=pd.merge(total_airlines,total_diverted_airlines,on=['Airline'])\n",
    "    temp1=pd.merge(temp,total_cancelled_airlines,on=['Airline'])\n",
    "    Final_Airlines=pd.merge(temp1,total_delayed_airlines,on=['Airline'])\n",
    "    Final_Airlines['Diverted'] = (Final_Airlines.Total_Diverted_Flights / Final_Airlines.Total_Flights)*100\n",
    "    Final_Airlines['Cancelled'] = (Final_Airlines.Total_Cancelled_Flights / Final_Airlines.Total_Flights)*100\n",
    "    Final_Airlines['Delayed'] = (Final_Airlines.Total_Delayed_Flights / Final_Airlines.Total_Flights)*100\n",
    "    Final_Airlines['Total'] = Final_Airlines.Diverted + Final_Airlines.Cancelled + Final_Airlines.Delayed\n",
    "    Final_Airlines['OnTime'] = 100-Final_Airlines.Total\n",
    "    Final_Airlines=Final_Airlines.sort_values(by=[\"Total\"], ascending=True)\n",
    "    return Final_Airlines\n",
    "\n",
    "#function call\n",
    "Final_Airlines = airlineReliability()"
   ]
  },
  {
   "cell_type": "code",
   "execution_count": 48,
   "metadata": {},
   "outputs": [
    {
     "data": {
      "text/html": [
       "<div>\n",
       "<style scoped>\n",
       "    .dataframe tbody tr th:only-of-type {\n",
       "        vertical-align: middle;\n",
       "    }\n",
       "\n",
       "    .dataframe tbody tr th {\n",
       "        vertical-align: top;\n",
       "    }\n",
       "\n",
       "    .dataframe thead th {\n",
       "        text-align: right;\n",
       "    }\n",
       "</style>\n",
       "<table border=\"1\" class=\"dataframe\">\n",
       "  <thead>\n",
       "    <tr style=\"text-align: right;\">\n",
       "      <th></th>\n",
       "      <th>Airline</th>\n",
       "      <th>Total_Flights</th>\n",
       "      <th>Total_Diverted_Flights</th>\n",
       "      <th>Total_Cancelled_Flights</th>\n",
       "      <th>Total_Delayed_Flights</th>\n",
       "      <th>Diverted</th>\n",
       "      <th>Cancelled</th>\n",
       "      <th>Delayed</th>\n",
       "      <th>Total</th>\n",
       "      <th>OnTime</th>\n",
       "    </tr>\n",
       "  </thead>\n",
       "  <tbody>\n",
       "    <tr>\n",
       "      <th>19</th>\n",
       "      <td>Hawaiian Airlines Inc.</td>\n",
       "      <td>60542</td>\n",
       "      <td>41</td>\n",
       "      <td>264</td>\n",
       "      <td>1252</td>\n",
       "      <td>0.067722</td>\n",
       "      <td>0.436061</td>\n",
       "      <td>2.067986</td>\n",
       "      <td>2.571768</td>\n",
       "      <td>97.428232</td>\n",
       "    </tr>\n",
       "    <tr>\n",
       "      <th>6</th>\n",
       "      <td>Endeavor Air Inc.</td>\n",
       "      <td>266867</td>\n",
       "      <td>422</td>\n",
       "      <td>974</td>\n",
       "      <td>10697</td>\n",
       "      <td>0.158131</td>\n",
       "      <td>0.364976</td>\n",
       "      <td>4.008364</td>\n",
       "      <td>4.531471</td>\n",
       "      <td>95.468529</td>\n",
       "    </tr>\n",
       "    <tr>\n",
       "      <th>2</th>\n",
       "      <td>Delta Air Lines Inc.</td>\n",
       "      <td>747998</td>\n",
       "      <td>1319</td>\n",
       "      <td>3631</td>\n",
       "      <td>34407</td>\n",
       "      <td>0.176337</td>\n",
       "      <td>0.485429</td>\n",
       "      <td>4.599879</td>\n",
       "      <td>5.261645</td>\n",
       "      <td>94.738355</td>\n",
       "    </tr>\n",
       "    <tr>\n",
       "      <th>15</th>\n",
       "      <td>Horizon Air</td>\n",
       "      <td>111628</td>\n",
       "      <td>172</td>\n",
       "      <td>2096</td>\n",
       "      <td>5004</td>\n",
       "      <td>0.154083</td>\n",
       "      <td>1.877665</td>\n",
       "      <td>4.482746</td>\n",
       "      <td>6.514495</td>\n",
       "      <td>93.485505</td>\n",
       "    </tr>\n",
       "    <tr>\n",
       "      <th>11</th>\n",
       "      <td>Alaska Airlines Inc.</td>\n",
       "      <td>188955</td>\n",
       "      <td>432</td>\n",
       "      <td>3217</td>\n",
       "      <td>10415</td>\n",
       "      <td>0.228626</td>\n",
       "      <td>1.702522</td>\n",
       "      <td>5.511894</td>\n",
       "      <td>7.443042</td>\n",
       "      <td>92.556958</td>\n",
       "    </tr>\n",
       "    <tr>\n",
       "      <th>8</th>\n",
       "      <td>Comair Inc.</td>\n",
       "      <td>222602</td>\n",
       "      <td>503</td>\n",
       "      <td>2254</td>\n",
       "      <td>14405</td>\n",
       "      <td>0.225964</td>\n",
       "      <td>1.012570</td>\n",
       "      <td>6.471191</td>\n",
       "      <td>7.709724</td>\n",
       "      <td>92.290276</td>\n",
       "    </tr>\n",
       "    <tr>\n",
       "      <th>16</th>\n",
       "      <td>Capital Cargo International</td>\n",
       "      <td>99331</td>\n",
       "      <td>315</td>\n",
       "      <td>1323</td>\n",
       "      <td>6289</td>\n",
       "      <td>0.317122</td>\n",
       "      <td>1.331910</td>\n",
       "      <td>6.331357</td>\n",
       "      <td>7.980389</td>\n",
       "      <td>92.019611</td>\n",
       "    </tr>\n",
       "    <tr>\n",
       "      <th>5</th>\n",
       "      <td>Republic Airlines</td>\n",
       "      <td>332925</td>\n",
       "      <td>749</td>\n",
       "      <td>5647</td>\n",
       "      <td>21231</td>\n",
       "      <td>0.224976</td>\n",
       "      <td>1.696178</td>\n",
       "      <td>6.377112</td>\n",
       "      <td>8.298265</td>\n",
       "      <td>91.701735</td>\n",
       "    </tr>\n",
       "    <tr>\n",
       "      <th>4</th>\n",
       "      <td>United Air Lines Inc.</td>\n",
       "      <td>446837</td>\n",
       "      <td>1076</td>\n",
       "      <td>6107</td>\n",
       "      <td>33404</td>\n",
       "      <td>0.240804</td>\n",
       "      <td>1.366718</td>\n",
       "      <td>7.475657</td>\n",
       "      <td>9.083178</td>\n",
       "      <td>90.916822</td>\n",
       "    </tr>\n",
       "    <tr>\n",
       "      <th>7</th>\n",
       "      <td>Envoy Air</td>\n",
       "      <td>255751</td>\n",
       "      <td>666</td>\n",
       "      <td>5686</td>\n",
       "      <td>17036</td>\n",
       "      <td>0.260410</td>\n",
       "      <td>2.223256</td>\n",
       "      <td>6.661167</td>\n",
       "      <td>9.144832</td>\n",
       "      <td>90.855168</td>\n",
       "    </tr>\n",
       "    <tr>\n",
       "      <th>1</th>\n",
       "      <td>SkyWest Airlines Inc.</td>\n",
       "      <td>753343</td>\n",
       "      <td>2134</td>\n",
       "      <td>13323</td>\n",
       "      <td>58781</td>\n",
       "      <td>0.283271</td>\n",
       "      <td>1.768517</td>\n",
       "      <td>7.802687</td>\n",
       "      <td>9.854475</td>\n",
       "      <td>90.145525</td>\n",
       "    </tr>\n",
       "    <tr>\n",
       "      <th>3</th>\n",
       "      <td>American Airlines Inc.</td>\n",
       "      <td>736399</td>\n",
       "      <td>2090</td>\n",
       "      <td>16478</td>\n",
       "      <td>59850</td>\n",
       "      <td>0.283814</td>\n",
       "      <td>2.237646</td>\n",
       "      <td>8.127387</td>\n",
       "      <td>10.648847</td>\n",
       "      <td>89.351153</td>\n",
       "    </tr>\n",
       "    <tr>\n",
       "      <th>0</th>\n",
       "      <td>Southwest Airlines Co.</td>\n",
       "      <td>1064640</td>\n",
       "      <td>2375</td>\n",
       "      <td>23505</td>\n",
       "      <td>89629</td>\n",
       "      <td>0.223080</td>\n",
       "      <td>2.207789</td>\n",
       "      <td>8.418714</td>\n",
       "      <td>10.849583</td>\n",
       "      <td>89.150417</td>\n",
       "    </tr>\n",
       "    <tr>\n",
       "      <th>13</th>\n",
       "      <td>Frontier Airlines Inc.</td>\n",
       "      <td>137142</td>\n",
       "      <td>181</td>\n",
       "      <td>1929</td>\n",
       "      <td>14575</td>\n",
       "      <td>0.131980</td>\n",
       "      <td>1.406571</td>\n",
       "      <td>10.627671</td>\n",
       "      <td>12.166222</td>\n",
       "      <td>87.833778</td>\n",
       "    </tr>\n",
       "    <tr>\n",
       "      <th>10</th>\n",
       "      <td>Spirit Air Lines</td>\n",
       "      <td>191361</td>\n",
       "      <td>414</td>\n",
       "      <td>5661</td>\n",
       "      <td>17749</td>\n",
       "      <td>0.216345</td>\n",
       "      <td>2.958283</td>\n",
       "      <td>9.275140</td>\n",
       "      <td>12.449768</td>\n",
       "      <td>87.550232</td>\n",
       "    </tr>\n",
       "    <tr>\n",
       "      <th>17</th>\n",
       "      <td>Air Wisconsin Airlines Corp</td>\n",
       "      <td>80256</td>\n",
       "      <td>132</td>\n",
       "      <td>2409</td>\n",
       "      <td>8394</td>\n",
       "      <td>0.164474</td>\n",
       "      <td>3.001645</td>\n",
       "      <td>10.459031</td>\n",
       "      <td>13.625150</td>\n",
       "      <td>86.374850</td>\n",
       "    </tr>\n",
       "    <tr>\n",
       "      <th>12</th>\n",
       "      <td>Mesa Airlines Inc.</td>\n",
       "      <td>159789</td>\n",
       "      <td>471</td>\n",
       "      <td>4763</td>\n",
       "      <td>16947</td>\n",
       "      <td>0.294764</td>\n",
       "      <td>2.980806</td>\n",
       "      <td>10.605861</td>\n",
       "      <td>13.881431</td>\n",
       "      <td>86.118569</td>\n",
       "    </tr>\n",
       "    <tr>\n",
       "      <th>20</th>\n",
       "      <td>GoJet Airlines, LLC d/b/a United Express</td>\n",
       "      <td>60143</td>\n",
       "      <td>134</td>\n",
       "      <td>2134</td>\n",
       "      <td>6126</td>\n",
       "      <td>0.222802</td>\n",
       "      <td>3.548210</td>\n",
       "      <td>10.185724</td>\n",
       "      <td>13.956736</td>\n",
       "      <td>86.043264</td>\n",
       "    </tr>\n",
       "    <tr>\n",
       "      <th>9</th>\n",
       "      <td>JetBlue Airways</td>\n",
       "      <td>202702</td>\n",
       "      <td>822</td>\n",
       "      <td>3299</td>\n",
       "      <td>26346</td>\n",
       "      <td>0.405521</td>\n",
       "      <td>1.627512</td>\n",
       "      <td>12.997405</td>\n",
       "      <td>15.030439</td>\n",
       "      <td>84.969561</td>\n",
       "    </tr>\n",
       "    <tr>\n",
       "      <th>18</th>\n",
       "      <td>Commutair Aka Champlain Enterprises, Inc.</td>\n",
       "      <td>76666</td>\n",
       "      <td>284</td>\n",
       "      <td>2489</td>\n",
       "      <td>9958</td>\n",
       "      <td>0.370438</td>\n",
       "      <td>3.246550</td>\n",
       "      <td>12.988809</td>\n",
       "      <td>16.605797</td>\n",
       "      <td>83.394203</td>\n",
       "    </tr>\n",
       "    <tr>\n",
       "      <th>14</th>\n",
       "      <td>Allegiant Air</td>\n",
       "      <td>115881</td>\n",
       "      <td>250</td>\n",
       "      <td>3829</td>\n",
       "      <td>15405</td>\n",
       "      <td>0.215739</td>\n",
       "      <td>3.304252</td>\n",
       "      <td>13.293810</td>\n",
       "      <td>16.813800</td>\n",
       "      <td>83.186200</td>\n",
       "    </tr>\n",
       "  </tbody>\n",
       "</table>\n",
       "</div>"
      ],
      "text/plain": [
       "                                      Airline  Total_Flights  \\\n",
       "19                     Hawaiian Airlines Inc.          60542   \n",
       "6                           Endeavor Air Inc.         266867   \n",
       "2                        Delta Air Lines Inc.         747998   \n",
       "15                                Horizon Air         111628   \n",
       "11                       Alaska Airlines Inc.         188955   \n",
       "8                                 Comair Inc.         222602   \n",
       "16                Capital Cargo International          99331   \n",
       "5                           Republic Airlines         332925   \n",
       "4                       United Air Lines Inc.         446837   \n",
       "7                                   Envoy Air         255751   \n",
       "1                       SkyWest Airlines Inc.         753343   \n",
       "3                      American Airlines Inc.         736399   \n",
       "0                      Southwest Airlines Co.        1064640   \n",
       "13                     Frontier Airlines Inc.         137142   \n",
       "10                           Spirit Air Lines         191361   \n",
       "17                Air Wisconsin Airlines Corp          80256   \n",
       "12                         Mesa Airlines Inc.         159789   \n",
       "20   GoJet Airlines, LLC d/b/a United Express          60143   \n",
       "9                             JetBlue Airways         202702   \n",
       "18  Commutair Aka Champlain Enterprises, Inc.          76666   \n",
       "14                              Allegiant Air         115881   \n",
       "\n",
       "    Total_Diverted_Flights  Total_Cancelled_Flights  Total_Delayed_Flights  \\\n",
       "19                      41                      264                   1252   \n",
       "6                      422                      974                  10697   \n",
       "2                     1319                     3631                  34407   \n",
       "15                     172                     2096                   5004   \n",
       "11                     432                     3217                  10415   \n",
       "8                      503                     2254                  14405   \n",
       "16                     315                     1323                   6289   \n",
       "5                      749                     5647                  21231   \n",
       "4                     1076                     6107                  33404   \n",
       "7                      666                     5686                  17036   \n",
       "1                     2134                    13323                  58781   \n",
       "3                     2090                    16478                  59850   \n",
       "0                     2375                    23505                  89629   \n",
       "13                     181                     1929                  14575   \n",
       "10                     414                     5661                  17749   \n",
       "17                     132                     2409                   8394   \n",
       "12                     471                     4763                  16947   \n",
       "20                     134                     2134                   6126   \n",
       "9                      822                     3299                  26346   \n",
       "18                     284                     2489                   9958   \n",
       "14                     250                     3829                  15405   \n",
       "\n",
       "    Diverted  Cancelled    Delayed      Total     OnTime  \n",
       "19  0.067722   0.436061   2.067986   2.571768  97.428232  \n",
       "6   0.158131   0.364976   4.008364   4.531471  95.468529  \n",
       "2   0.176337   0.485429   4.599879   5.261645  94.738355  \n",
       "15  0.154083   1.877665   4.482746   6.514495  93.485505  \n",
       "11  0.228626   1.702522   5.511894   7.443042  92.556958  \n",
       "8   0.225964   1.012570   6.471191   7.709724  92.290276  \n",
       "16  0.317122   1.331910   6.331357   7.980389  92.019611  \n",
       "5   0.224976   1.696178   6.377112   8.298265  91.701735  \n",
       "4   0.240804   1.366718   7.475657   9.083178  90.916822  \n",
       "7   0.260410   2.223256   6.661167   9.144832  90.855168  \n",
       "1   0.283271   1.768517   7.802687   9.854475  90.145525  \n",
       "3   0.283814   2.237646   8.127387  10.648847  89.351153  \n",
       "0   0.223080   2.207789   8.418714  10.849583  89.150417  \n",
       "13  0.131980   1.406571  10.627671  12.166222  87.833778  \n",
       "10  0.216345   2.958283   9.275140  12.449768  87.550232  \n",
       "17  0.164474   3.001645  10.459031  13.625150  86.374850  \n",
       "12  0.294764   2.980806  10.605861  13.881431  86.118569  \n",
       "20  0.222802   3.548210  10.185724  13.956736  86.043264  \n",
       "9   0.405521   1.627512  12.997405  15.030439  84.969561  \n",
       "18  0.370438   3.246550  12.988809  16.605797  83.394203  \n",
       "14  0.215739   3.304252  13.293810  16.813800  83.186200  "
      ]
     },
     "execution_count": 48,
     "metadata": {},
     "output_type": "execute_result"
    }
   ],
   "source": [
    "Final_Airlines"
   ]
  },
  {
   "cell_type": "markdown",
   "metadata": {},
   "source": [
    "#### _Brief Explanation of following code cell_\n",
    "_Top 10 most reliable airlines_"
   ]
  },
  {
   "cell_type": "code",
   "execution_count": 49,
   "metadata": {},
   "outputs": [
    {
     "data": {
      "text/html": [
       "<div>\n",
       "<style scoped>\n",
       "    .dataframe tbody tr th:only-of-type {\n",
       "        vertical-align: middle;\n",
       "    }\n",
       "\n",
       "    .dataframe tbody tr th {\n",
       "        vertical-align: top;\n",
       "    }\n",
       "\n",
       "    .dataframe thead th {\n",
       "        text-align: right;\n",
       "    }\n",
       "</style>\n",
       "<table border=\"1\" class=\"dataframe\">\n",
       "  <thead>\n",
       "    <tr style=\"text-align: right;\">\n",
       "      <th></th>\n",
       "      <th>Airline</th>\n",
       "    </tr>\n",
       "  </thead>\n",
       "  <tbody>\n",
       "    <tr>\n",
       "      <th>19</th>\n",
       "      <td>Hawaiian Airlines Inc.</td>\n",
       "    </tr>\n",
       "    <tr>\n",
       "      <th>6</th>\n",
       "      <td>Endeavor Air Inc.</td>\n",
       "    </tr>\n",
       "    <tr>\n",
       "      <th>2</th>\n",
       "      <td>Delta Air Lines Inc.</td>\n",
       "    </tr>\n",
       "    <tr>\n",
       "      <th>15</th>\n",
       "      <td>Horizon Air</td>\n",
       "    </tr>\n",
       "    <tr>\n",
       "      <th>11</th>\n",
       "      <td>Alaska Airlines Inc.</td>\n",
       "    </tr>\n",
       "    <tr>\n",
       "      <th>8</th>\n",
       "      <td>Comair Inc.</td>\n",
       "    </tr>\n",
       "    <tr>\n",
       "      <th>16</th>\n",
       "      <td>Capital Cargo International</td>\n",
       "    </tr>\n",
       "    <tr>\n",
       "      <th>5</th>\n",
       "      <td>Republic Airlines</td>\n",
       "    </tr>\n",
       "    <tr>\n",
       "      <th>4</th>\n",
       "      <td>United Air Lines Inc.</td>\n",
       "    </tr>\n",
       "    <tr>\n",
       "      <th>7</th>\n",
       "      <td>Envoy Air</td>\n",
       "    </tr>\n",
       "  </tbody>\n",
       "</table>\n",
       "</div>"
      ],
      "text/plain": [
       "                        Airline\n",
       "19       Hawaiian Airlines Inc.\n",
       "6             Endeavor Air Inc.\n",
       "2          Delta Air Lines Inc.\n",
       "15                  Horizon Air\n",
       "11         Alaska Airlines Inc.\n",
       "8                   Comair Inc.\n",
       "16  Capital Cargo International\n",
       "5             Republic Airlines\n",
       "4         United Air Lines Inc.\n",
       "7                     Envoy Air"
      ]
     },
     "execution_count": 49,
     "metadata": {},
     "output_type": "execute_result"
    }
   ],
   "source": [
    "top_10_airlines = Final_Airlines[['Airline']].head(10)\n",
    "top_10_airlines"
   ]
  },
  {
   "cell_type": "code",
   "execution_count": 50,
   "metadata": {},
   "outputs": [],
   "source": [
    "plt.style.use(\"seaborn-colorblind\")\n",
    "pal = sns.color_palette()"
   ]
  },
  {
   "cell_type": "markdown",
   "metadata": {},
   "source": [
    "#### _Brief Explanation of following code cell_\n",
    "_Function definition to display bar chart showing the most reliable airlines_"
   ]
  },
  {
   "cell_type": "code",
   "execution_count": 51,
   "metadata": {},
   "outputs": [],
   "source": [
    "def first_plot():\n",
    "    top_ten_airlines = Final_Airlines[['Airline','OnTime']].head(10)\n",
    "    top_ten_airlines=top_ten_airlines.sort_values(by=['OnTime'], ascending=True)\n",
    "    top_ten_airlines.plot(x='Airline',kind=\"barh\", figsize=(8, 5), color=pal[5], title=\"Top 10 most Reliable Airlines - 2021\")"
   ]
  },
  {
   "cell_type": "markdown",
   "metadata": {},
   "source": [
    "#### _Brief Explanation of following code cell_\n",
    "_Function definition to display percentage stacked bar chart showing percentage of diverted, cancelled and delayed flights with respect to the total flights_"
   ]
  },
  {
   "cell_type": "code",
   "execution_count": 52,
   "metadata": {},
   "outputs": [],
   "source": [
    "def second_plot():\n",
    "    Final_Airlines_plot = Final_Airlines[['Airline','OnTime','Diverted','Cancelled','Delayed']]\n",
    "    Final_Airlines_plot.plot(x='Airline', kind='barh', stacked=True,title='Reliability of Airlines',figsize=(9,5),width=0.6,\n",
    "                         color=['green','yellow','blue','red'])"
   ]
  },
  {
   "cell_type": "markdown",
   "metadata": {},
   "source": [
    "## Objective 3"
   ]
  },
  {
   "cell_type": "markdown",
   "metadata": {},
   "source": [
    "#### _Brief Explanation of following code cell_\n",
    "\n",
    "Separating the dataset in two dataset. One of the year 2020 and another one with the others years."
   ]
  },
  {
   "cell_type": "code",
   "execution_count": 53,
   "metadata": {},
   "outputs": [],
   "source": [
    "CF_flight_data = data [ data[\"Year\"] != 2022]\n",
    "CF_flight_data_2020 = CF_flight_data[ CF_flight_data[\"Year\"] == 2020]\n",
    "CF_flight_data_except_2020 = CF_flight_data[ CF_flight_data[\"Year\"] != 2020]"
   ]
  },
  {
   "cell_type": "markdown",
   "metadata": {},
   "source": [
    "#### _Brief Explanation of following code cell_\n",
    "\n",
    "Computing the ratio of cancelled flights during Covid-19 for each Origin airport"
   ]
  },
  {
   "cell_type": "code",
   "execution_count": 54,
   "metadata": {},
   "outputs": [],
   "source": [
    "CF_flight_2020_filtered = CF_flight_data_2020[['Cancelled', 'Diverted', 'OriginCityName', 'DestCityName']]\n",
    "CF_flight_2020_filtered = CF_flight_2020_filtered.groupby('OriginCityName').sum()\n",
    "CF_flight_2020_filtered = CF_flight_2020_filtered.sort_values(by=\"Cancelled\",ascending=False)\n",
    "\n",
    "CF_flight_2020_occurences = CF_flight_data_2020[['Origin', 'OriginCityName']]\n",
    "CF_flight_2020_occurences = CF_flight_2020_occurences.groupby('OriginCityName').count()\n",
    "CF_flight_2020_occurences.rename(columns = {'Origin':'Nb_Occurences'}, inplace = True)\n",
    "\n",
    "CE_flight_during_covid = pd.merge(CF_flight_2020_filtered, CF_flight_2020_occurences, left_index=True, right_index=True)\n",
    "\n",
    "CE_flight_during_covid[\"Cancellation_Ratio\"] = CE_flight_during_covid[\"Cancelled\"] / CE_flight_during_covid[\"Nb_Occurences\"] \n",
    "CE_flight_during_covid = CE_flight_during_covid [CE_flight_during_covid['Cancellation_Ratio'] > 0.02]\n",
    "CE_flight_during_covid = CE_flight_during_covid.round({'Cancelled': 0, 'Diverted': 0, 'Nb_Occurences': 0, 'Cancellation_Ratio': 3})"
   ]
  },
  {
   "cell_type": "markdown",
   "metadata": {},
   "source": [
    "#### _Brief Explanation of following code cell_\n",
    "\n",
    "Computing the ratio of cancelled flights during Covid-19 for each Origin airport"
   ]
  },
  {
   "cell_type": "code",
   "execution_count": 55,
   "metadata": {},
   "outputs": [],
   "source": [
    "CF_flight_except_2020_occurences = CF_flight_data_except_2020[['Origin', 'OriginCityName']]\n",
    "CF_flight_except_2020_occurences = CF_flight_except_2020_occurences.groupby('OriginCityName').count()\n",
    "CF_flight_except_2020_occurences.rename(columns = {'Origin':'Nb_Occurences'}, inplace = True)\n",
    "\n",
    "CF_flight_except_2020_filtered = CF_flight_data_except_2020[['Cancelled', 'Diverted', 'Origin', 'Dest', 'OriginCityName', 'DestCityName']]\n",
    "CF_flight_except_2020_filtered = CF_flight_except_2020_filtered.groupby('OriginCityName').sum()\n",
    "CF_flight_except_2020_filtered = CF_flight_except_2020_filtered.sort_values(by=\"Cancelled\",ascending=False)\n",
    "\n",
    "CE_flight_without_covid_except_2020 = pd.merge(CF_flight_except_2020_filtered, CF_flight_except_2020_occurences, left_index=True, right_index=True)\n",
    "\n",
    "CE_flight_without_covid_except_2020['Cancelled'] = CE_flight_without_covid_except_2020['Cancelled'] / 3\n",
    "CE_flight_without_covid_except_2020['Diverted'] = CE_flight_without_covid_except_2020['Diverted'] / 3\n",
    "CE_flight_without_covid_except_2020['Nb_Occurences'] = CE_flight_without_covid_except_2020['Nb_Occurences'] / 3\n",
    "\n",
    "CE_flight_without_covid_except_2020[\"Cancellation_Ratio\"] = CE_flight_without_covid_except_2020[\"Cancelled\"] / CE_flight_without_covid_except_2020[\"Nb_Occurences\"] \n",
    "CE_flight_without_covid_except_2020 = CE_flight_without_covid_except_2020 [CE_flight_without_covid_except_2020['Cancellation_Ratio'] > 0.01]\n",
    "CE_flight_without_covid_except_2020 = CE_flight_without_covid_except_2020.round({'Cancelled': 0, 'Diverted': 0, 'Nb_Occurences': 0, 'Cancellation_Ratio': 3})"
   ]
  },
  {
   "cell_type": "markdown",
   "metadata": {},
   "source": [
    "#### _Brief Explanation of following code cell_\n",
    "\n",
    "Filtering the above datasets obtained to keep only the results with more than 1700 cancelled flights per Origin airports"
   ]
  },
  {
   "cell_type": "code",
   "execution_count": 57,
   "metadata": {},
   "outputs": [],
   "source": [
    "CE_flight_during_covid = CE_flight_during_covid[ CE_flight_during_covid['Cancelled'] > 1700]\n",
    "CE_flight_without_covid_except_2020 = CE_flight_without_covid_except_2020[ CE_flight_without_covid_except_2020['Cancelled'] > 1700]"
   ]
  },
  {
   "cell_type": "markdown",
   "metadata": {},
   "source": [
    "#### _Brief Explanation of following code cell_\n",
    "\n",
    "Computing the number of cancelled flight during the Covid-19 period Vs. the years without Covid"
   ]
  },
  {
   "cell_type": "code",
   "execution_count": 58,
   "metadata": {},
   "outputs": [],
   "source": [
    "CF_flight_except_2020_flights = CF_flight_data_except_2020[['DestCityName', 'OriginCityName', 'Cancelled']]\n",
    "CF_flight_except_2020_flights = CF_flight_except_2020_flights.groupby(['OriginCityName', 'DestCityName']).count()\n",
    "CF_flight_except_2020_flights = CF_flight_except_2020_flights.sort_values(by=\"Cancelled\",ascending=False)\n",
    "CF_flight_except_2020_flights['Cancelled'] = CF_flight_except_2020_flights['Cancelled'] / 3\n",
    "CF_flight_except_2020_flights.rename(columns = {'Cancelled':'Cancelled_except_2020'}, inplace = True)\n",
    "\n",
    "CF_flight_2020_flights = CF_flight_data_2020[['DestCityName', 'OriginCityName', 'Cancelled']]\n",
    "CF_flight_2020_flights = CF_flight_2020_flights.groupby(['OriginCityName', 'DestCityName']).count()\n",
    "CF_flight_2020_flights = CF_flight_2020_flights.sort_values(by=\"Cancelled\",ascending=False)\n",
    "CF_flight_2020_flights.rename(columns = {'Cancelled':'Cancelled_2020'}, inplace = True)\n",
    "\n",
    "CF_flight_Cancellation_Study_Covid = pd.merge(CF_flight_2020_flights, CF_flight_except_2020_flights, left_index=True, right_index=True)\n",
    "CF_flight_Cancellation_Study_Covid = CF_flight_Cancellation_Study_Covid[CF_flight_Cancellation_Study_Covid['Cancelled_except_2020'] > 10000]"
   ]
  },
  {
   "cell_type": "markdown",
   "metadata": {},
   "source": [
    "## Objective 4"
   ]
  },
  {
   "cell_type": "markdown",
   "metadata": {},
   "source": [
    "#### _Brief Explanation of following code cell_\n",
    "\n",
    "_Filtering data to include the last 2 years and removing flights that were Diverted for the Machine Learning model._"
   ]
  },
  {
   "cell_type": "code",
   "execution_count": 59,
   "metadata": {},
   "outputs": [
    {
     "name": "stdout",
     "output_type": "stream",
     "text": [
      "Size of the DataFrame 10364996\n"
     ]
    }
   ],
   "source": [
    "data_2122 = data[(data['Year'] == 2021) | (data['Year'] == 2022)]\n",
    "data_2122 = data_2122[data_2122['Diverted'] == False]\n",
    "print('Size of the DataFrame', len(data_2122))"
   ]
  },
  {
   "cell_type": "markdown",
   "metadata": {},
   "source": [
    "#### _Brief Explanation of following code cell_\n",
    "\n",
    "_Splitting the dataframe into the independant variables and target variable._"
   ]
  },
  {
   "cell_type": "code",
   "execution_count": 60,
   "metadata": {},
   "outputs": [],
   "source": [
    "independant_variables = ['CRSDepTime', 'CRSArrTime', 'Month', 'DayofMonth', 'DOT_ID_Operating_Airline', 'OriginAirportID', 'DestAirportID']\n",
    "filtered_df = data_2122[independant_variables]\n",
    "cancelled = data_2122['Cancelled']"
   ]
  },
  {
   "cell_type": "markdown",
   "metadata": {},
   "source": [
    "#### _Brief Explanation of following code cell_\n",
    "\n",
    "_Creating the training and test dataset._"
   ]
  },
  {
   "cell_type": "code",
   "execution_count": 62,
   "metadata": {},
   "outputs": [],
   "source": [
    "x_train, x_test, y_train, y_test = train_test_split(filtered_df, cancelled, test_size=0.3, random_state=42)"
   ]
  },
  {
   "cell_type": "markdown",
   "metadata": {},
   "source": [
    "### Comparing the efficiency of different models over the dataset."
   ]
  },
  {
   "cell_type": "markdown",
   "metadata": {},
   "source": [
    "### 1. Logistic Regression without oversampling"
   ]
  },
  {
   "cell_type": "markdown",
   "metadata": {},
   "source": [
    "#### _Brief Explanation of following code cell_\n",
    "\n",
    "_In the following cell, we are standardising the data. We only need this for the independant variables as the target variable does not need any standardisation._"
   ]
  },
  {
   "cell_type": "code",
   "execution_count": 63,
   "metadata": {},
   "outputs": [],
   "source": [
    "scaler = StandardScaler()\n",
    "x_train_std = scaler.fit_transform(x_train)\n",
    "x_test_std = scaler.transform(x_test)"
   ]
  },
  {
   "cell_type": "markdown",
   "metadata": {},
   "source": [
    "#### _Brief Explanation of following code cell_\n",
    "\n",
    "_Applying logistic regression to the data and determining the accuracy._"
   ]
  },
  {
   "cell_type": "code",
   "execution_count": 64,
   "metadata": {},
   "outputs": [
    {
     "name": "stdout",
     "output_type": "stream",
     "text": [
      "Accuracy 97.74\n"
     ]
    }
   ],
   "source": [
    "logistic_regression = LogisticRegression(max_iter=1000)\n",
    "logistic_regression.fit(x_train_std, y_train)\n",
    "\n",
    "#Determining the accuracy\n",
    "score = logistic_regression.score(x_test_std, y_test)\n",
    "print('Accuracy', round(score*100, 2))"
   ]
  },
  {
   "cell_type": "markdown",
   "metadata": {},
   "source": [
    "#### _Brief Explanation of following code cell_\n",
    "\n",
    "_In the following code cells we are getting the predicted values for the test data and generating a confusion matrix._"
   ]
  },
  {
   "cell_type": "code",
   "execution_count": 65,
   "metadata": {},
   "outputs": [
    {
     "name": "stdout",
     "output_type": "stream",
     "text": [
      "[[2351394  687938]\n",
      " [  51681   18486]]\n"
     ]
    }
   ],
   "source": [
    "predicted_values = logistic_regression.predict(x_test)\n",
    "confusion_matrix_lr = metrics.confusion_matrix(y_test, predicted_values)\n",
    "print(confusion_matrix_lr)"
   ]
  },
  {
   "cell_type": "markdown",
   "metadata": {},
   "source": [
    "#### _Comment on previous cell output_\n",
    "_The output from the previous cell determines that the number of cancellations were too less for the model. The model predicts that majority of the flights are not cancelled which is not the case._"
   ]
  },
  {
   "cell_type": "markdown",
   "metadata": {},
   "source": [
    "#### _Brief Explanation of following code cell_\n",
    "\n",
    "_Oversampling the data using SMOTE. This creates synthetic data for the minority class (Cancelled Flights). We only create the synthetic data for the training set to ensure that the test data is accurate._"
   ]
  },
  {
   "cell_type": "code",
   "execution_count": 66,
   "metadata": {},
   "outputs": [],
   "source": [
    "smote = SMOTE(sampling_strategy=0.4)\n",
    "x_smote, y_smote = smote.fit_resample(x_train, y_train)"
   ]
  },
  {
   "cell_type": "markdown",
   "metadata": {},
   "source": [
    "### 2. Logistic Regression with oversampling"
   ]
  },
  {
   "cell_type": "markdown",
   "metadata": {},
   "source": [
    "#### _Brief Explanation of following code cell_\n",
    "\n",
    "_Applying Feature scaling to the oversampled data._"
   ]
  },
  {
   "cell_type": "code",
   "execution_count": 67,
   "metadata": {},
   "outputs": [],
   "source": [
    "x_train_smote_std = scaler.fit_transform(x_smote)\n",
    "x_test_smote_std = scaler.transform(x_test)"
   ]
  },
  {
   "cell_type": "markdown",
   "metadata": {},
   "source": [
    "#### _Brief Explanation of following code cell_\n",
    "\n",
    "_Applying Logistic Regression to the oversampled data._"
   ]
  },
  {
   "cell_type": "code",
   "execution_count": 68,
   "metadata": {},
   "outputs": [
    {
     "name": "stdout",
     "output_type": "stream",
     "text": [
      "Accuracy 97.37\n"
     ]
    }
   ],
   "source": [
    "logistic_regression.fit(x_train_smote_std, y_smote)\n",
    "score = logistic_regression.score(x_test_smote_std, y_test)\n",
    "print('Accuracy', round(score*100, 2))"
   ]
  },
  {
   "cell_type": "markdown",
   "metadata": {},
   "source": [
    "#### _Brief Explanation of following code cell_\n",
    "\n",
    "_In the following code cells we are getting the predicted values for the test data and generating a confusion matrix._"
   ]
  },
  {
   "cell_type": "code",
   "execution_count": 69,
   "metadata": {},
   "outputs": [
    {
     "name": "stdout",
     "output_type": "stream",
     "text": [
      "[[3026596   12736]\n",
      " [  68975    1192]]\n"
     ]
    }
   ],
   "source": [
    "predicted_values = logistic_regression.predict(x_test_smote_std)\n",
    "confusion_matrix_lr_oversampled = metrics.confusion_matrix(y_test, predicted_values)\n",
    "print(confusion_matrix_lr_oversampled)"
   ]
  },
  {
   "cell_type": "markdown",
   "metadata": {},
   "source": [
    "#### _Comment on previous cell output_\n",
    "_When compared to the original data, the oversampled data is able to make much better predictions for flights that are not cancelled. However, the accuracy for cancelled flights decreases even further._"
   ]
  },
  {
   "cell_type": "markdown",
   "metadata": {},
   "source": [
    "### 3. Random Forest Classifier"
   ]
  },
  {
   "cell_type": "markdown",
   "metadata": {},
   "source": [
    "#### _Brief Explanation of following code cell_\n",
    "\n",
    "_Applying the RandomForestClassifier algorithm to the data. The data does not need to be scaled for this algorithm._"
   ]
  },
  {
   "cell_type": "code",
   "execution_count": 71,
   "metadata": {},
   "outputs": [
    {
     "data": {
      "text/plain": [
       "RandomForestClassifier(n_estimators=25, random_state=12)"
      ]
     },
     "execution_count": 71,
     "metadata": {},
     "output_type": "execute_result"
    }
   ],
   "source": [
    "clf_rf = RandomForestClassifier(n_estimators=25, random_state=12)\n",
    "clf_rf.fit(x_train, y_train)"
   ]
  },
  {
   "cell_type": "markdown",
   "metadata": {},
   "source": [
    "#### _Brief Explanation of following code cell_\n",
    "\n",
    "_Checking the accuracy of the algorithm._"
   ]
  },
  {
   "cell_type": "code",
   "execution_count": 72,
   "metadata": {},
   "outputs": [
    {
     "name": "stdout",
     "output_type": "stream",
     "text": [
      "Accuracy 97.7\n"
     ]
    }
   ],
   "source": [
    "score = clf_rf.score(x_test, y_test)\n",
    "print('Accuracy', round(score*100, 2))"
   ]
  },
  {
   "cell_type": "markdown",
   "metadata": {},
   "source": [
    "#### _Brief Explanation of following code cell_\n",
    "\n",
    "_Predicting the values from this algorithm and then generating the confusion matrix._"
   ]
  },
  {
   "cell_type": "code",
   "execution_count": 73,
   "metadata": {},
   "outputs": [
    {
     "name": "stdout",
     "output_type": "stream",
     "text": [
      "[[3031181    8151]\n",
      " [  63341    6826]]\n"
     ]
    }
   ],
   "source": [
    "predicted_values = clf_rf.predict(x_test)\n",
    "confusion_matrix_rf = metrics.confusion_matrix(y_test, predicted_values)\n",
    "print(confusion_matrix_rf)"
   ]
  },
  {
   "cell_type": "markdown",
   "metadata": {},
   "source": [
    "#### _Comment on previous cell output_\n",
    "_This algorithm predicts the most accurate number for flights that were not cancelled. However, the accuracy for cancelled flights is lesser than the Logistic Regression Algorithm._"
   ]
  },
  {
   "cell_type": "markdown",
   "metadata": {},
   "source": [
    "#### _Brief Explanation of following code cell_\n",
    "\n",
    "_Defining a function that will display the confusion matrix for the different ML algorithms._"
   ]
  },
  {
   "cell_type": "code",
   "execution_count": 74,
   "metadata": {},
   "outputs": [],
   "source": [
    "def show_confusion_matrix():\n",
    "    fig, ax = plt.subplots(ncols=3, nrows=1, figsize=(20, 5))\n",
    "    ax[0].set_title(\"Logistic Regression\", fontsize=12, fontweight=\"bold\")\n",
    "    sns.heatmap(confusion_matrix_lr, annot = True, fmt = '.0f', linewidths=.7, ax=ax[0])\n",
    "\n",
    "    ax[1].set_title(\"Logistic Regression OverSampled Data\", fontsize=12, fontweight=\"bold\")\n",
    "    sns.heatmap(confusion_matrix_lr_oversampled, annot = True, fmt = '.0f', linewidths=.5, ax=ax[1])\n",
    "\n",
    "\n",
    "    ax[2].set_title(\"Random Forest Classification\", fontsize=12, fontweight=\"bold\")\n",
    "    sns.heatmap(confusion_matrix_rf, annot = True, fmt = '.0f', linewidths=.5, ax=ax[2])\n",
    "    plt.show()"
   ]
  },
  {
   "cell_type": "markdown",
   "metadata": {},
   "source": [
    "# Project Outcome "
   ]
  },
  {
   "cell_type": "markdown",
   "metadata": {
    "slideshow": {
     "slide_type": "fragment"
    }
   },
   "source": [
    "## Overview of Results\n",
    "_From the analysis of the flight data from 2018-2021 we were able to obtain satisfactory results for the objectives mentioned above. Initially the raw data had a lot of discrepancies such as null values, redundant values, missing values, inconsistent values, outliers etc. For each objectives the requisite features were extracted and sometimes a consolidated dataframe was formed to obtain the output._\n",
    "\n",
    "_After analysis we were left with various interesting findings that can be very useful for a person who is going to embark on a journey in the United States of America. If a person were to travel from point A to B he / she will be able to find the flight that is apt for him / her with the minimum travel time he / she has to spare. While choosing a carrier to fly, it is extremely important to see which airline that carrier is of. For this reason, we have come up with a ranking system. We have analysed the data to see if the airline is reliable or not and ranked them accordingly. As we know, COVID – 19 had a huge impact on the airline industry. The pandemic caused cancellation and delaying of flights causing a lot of inconvenience for passengers. We have visualized the data from pre and post covid times to see if the changes caused due to covid was reverted back. Last but not the least, we have created a model that predicts if a flight will be cancelled or not. The results obtained along with the visualization are explained in detail below._\n"
   ]
  },
  {
   "cell_type": "markdown",
   "metadata": {},
   "source": [
    "## Objective 1\n",
    "\n",
    "### Explanation of Results\n",
    "\n",
    "_For the first obejctive we are finding the flights which takes the least time to go from a place A to B. This is important for frequent travelers as it will help them choose flights effectively and save valuable time. In doing so we have used the data from the year 2021 (contains 6311870 records) for the following reasons:_\n",
    "    _1. The large size of the dataset caused the analysis to be complex and time consuming which is not feasible.\n",
    "    2. This was the most recent year with complete data._\n",
    "\n",
    "_The chosen dataset was further filtered so that only the required features for this particular analysis is present in it. After filtering and slight cleaning the analysis was done (the code and brief explanation of which is in the cells above). The airport codes of the origin and destination airports are taken as an input from the user. The result obtained is the Top 5 flight details that takes the least amount of time to fly from the Airport A to Airport B._\n",
    "\n",
    "_The details of the flight includes: 1. Which Airline the carrier is of\n",
    "                                    2. Unique flight/carrier code \n",
    "                                    3. Airtime\n",
    "Using these details one can choose the flight that is apt for their journey._\n",
    "\n",
    "### Visualisation\n",
    "_The following pie chart shows the percentages of flights that has an airtime greater than the average airtime, and the flights that has an airtime less than or equal to the average airtime._<br>\n",
    "_In this particular case the flights from CLT (Charlotte,NC) to PHX(Phoenix,AZ) is considered._\n"
   ]
  },
  {
   "cell_type": "code",
   "execution_count": 75,
   "metadata": {},
   "outputs": [
    {
     "data": {
      "image/png": "[encoded data removed]",
      "text/plain": [
       "<Figure size 432x288 with 1 Axes>"
      ]
     },
     "metadata": {},
     "output_type": "display_data"
    }
   ],
   "source": [
    "#function call\n",
    "plot_pie()"
   ]
  },
  {
   "cell_type": "markdown",
   "metadata": {},
   "source": [
    "## Objective 2\n",
    "### Explanation of Results\n",
    "\n",
    "For the second objective, we have ranked the airlines in terms of their reliability. Cancellations, delays, and diversions of the flights were used as the three criteria to rank different airlines. We’ve analysed the data for the year 2021 which had the flight details for a total of 20 airlines.<br><br>\n",
    "Reliability in this ranking refers to how many flights were cancelled, diverted, or delayed for more than 45 minutes relative to the total number of flights that airline operated in 2021. As a result, an airline is considered more reliable if there are fewer cancellations, diversions, or delays.<br><br>\n",
    "Hawaiian Airlines Inc. is the most reliable airline, according to the analysis. Only 0.068% of the 60542 total flights were diverted, 0.44% were cancelled, and 2% were delayed. However, due to their high rate of cancelled and delayed flights, Allegiant Air is the least reliable airline. Out of 115881 flights, 3.3% were cancelled, 0.2% were diverted and 13.3% were delayed making it very unreliable airline. In a similar manner we can analyze the reliability of all airlines.<br><br>\n",
    "From the analysis, we can conclude that for the year 2021, Hawaiian Airlines Inc, Endeavor Air Inc, Delta Air Lines Inc, Horizon Air and Alaska Airlines Inc are the top 5 most reliable airlines in the US and JetBlue Airways, CommutAir Aka Champlain Enterprises Inc, and Allegiant Air are the three least reliable ones.\n",
    "\n",
    "### Visualisation"
   ]
  },
  {
   "cell_type": "markdown",
   "metadata": {},
   "source": [
    "_The following bar chart shows the top 10 most reliable airlines in 2021_<br>"
   ]
  },
  {
   "cell_type": "code",
   "execution_count": 76,
   "metadata": {},
   "outputs": [
    {
     "data": {
      "image/png": "[encoded data removed]",
      "text/plain": [
       "<Figure size 576x360 with 1 Axes>"
      ]
     },
     "metadata": {
      "needs_background": "light"
     },
     "output_type": "display_data"
    }
   ],
   "source": [
    "first_plot()"
   ]
  },
  {
   "cell_type": "markdown",
   "metadata": {},
   "source": [
    "_The following percentage stacked bar chart shows the airlines reliability ranking for the year 2021_<br>"
   ]
  },
  {
   "cell_type": "code",
   "execution_count": 77,
   "metadata": {},
   "outputs": [
    {
     "data": {
      "image/png": "[encoded data removed]",
      "text/plain": [
       "<Figure size 648x360 with 1 Axes>"
      ]
     },
     "metadata": {
      "needs_background": "light"
     },
     "output_type": "display_data"
    }
   ],
   "source": [
    "second_plot()"
   ]
  },
  {
   "cell_type": "markdown",
   "metadata": {},
   "source": [
    "## Objective 3\n",
    "### Explanation of Results\n"
   ]
  },
  {
   "cell_type": "markdown",
   "metadata": {},
   "source": [
    "We decided to look at the issue of the impact of Covid-19 on flights in the USA. \n",
    "For this purpose we split our dataset in two. First, a first sub-dataset composed of the years 2018, 2019 and 2021. \n",
    "We exclude the year 2022 because the dataset is not complete for this year. Only 3 out of 4 quarters. \n",
    "Then a second sub-dataset consisting of the year 2020. After searching on the internet and by personal knowledge Covid-19 had \n",
    "an impact for the year 2020. \n",
    "\n",
    "We obtained quite interesting results. In particular, by looking more deeply into the cancellation of flights in 2020 compared to the rest on average. We talk about average because we aggregate as a sum over the years 2018, 2019 and 2021 and divide by 3 because we have 3 years. What we get is that there were many more flight cancellations in the year 2020 than in the rest of the years. This can be explained quite well by the rather strong changes that Covid-19 has brought to our companies. Even more so in heavily populated countries like the USA. \n",
    "\n",
    "On the other hand we have studied Origin - Destination flights and observed the differences in cancellation on these flights during the Covid-19 period and outside this period. Again the number of cancellations is much higher in 2020. "
   ]
  },
  {
   "cell_type": "markdown",
   "metadata": {},
   "source": [
    "### Visualisation"
   ]
  },
  {
   "cell_type": "markdown",
   "metadata": {},
   "source": [
    "On this first plot we look at the numbers of cancelled flights by city from which flights to other cities in the US originated during the Covid (2020)."
   ]
  },
  {
   "cell_type": "code",
   "execution_count": 78,
   "metadata": {},
   "outputs": [
    {
     "data": {
      "text/plain": [
       "<AxesSubplot:xlabel='OriginCityName'>"
      ]
     },
     "execution_count": 78,
     "metadata": {},
     "output_type": "execute_result"
    },
    {
     "data": {
      "image/png": "[encoded data removed]",
      "text/plain": [
       "<Figure size 720x360 with 1 Axes>"
      ]
     },
     "metadata": {
      "needs_background": "light"
     },
     "output_type": "display_data"
    }
   ],
   "source": [
    "CE_flight_during_covid.plot.bar(y='Cancelled', figsize=(10, 5))"
   ]
  },
  {
   "cell_type": "markdown",
   "metadata": {},
   "source": [
    "On this second plot we look at the numbers of cancelled flights by city from which flights to other cities in the \n",
    "US originate outside the covid period."
   ]
  },
  {
   "cell_type": "code",
   "execution_count": 79,
   "metadata": {},
   "outputs": [
    {
     "data": {
      "text/plain": [
       "<AxesSubplot:xlabel='OriginCityName'>"
      ]
     },
     "execution_count": 79,
     "metadata": {},
     "output_type": "execute_result"
    },
    {
     "data": {
      "image/png": "[encoded data removed]",
      "text/plain": [
       "<Figure size 720x360 with 1 Axes>"
      ]
     },
     "metadata": {
      "needs_background": "light"
     },
     "output_type": "display_data"
    }
   ],
   "source": [
    "CE_flight_without_covid_except_2020.plot.bar(y='Cancelled', figsize=(10, 5))"
   ]
  },
  {
   "cell_type": "markdown",
   "metadata": {},
   "source": [
    "In this table we can see the ratio of cancelled flights without covid per city of origin"
   ]
  },
  {
   "cell_type": "code",
   "execution_count": 80,
   "metadata": {},
   "outputs": [
    {
     "data": {
      "text/html": [
       "<div>\n",
       "<style scoped>\n",
       "    .dataframe tbody tr th:only-of-type {\n",
       "        vertical-align: middle;\n",
       "    }\n",
       "\n",
       "    .dataframe tbody tr th {\n",
       "        vertical-align: top;\n",
       "    }\n",
       "\n",
       "    .dataframe thead th {\n",
       "        text-align: right;\n",
       "    }\n",
       "</style>\n",
       "<table border=\"1\" class=\"dataframe\">\n",
       "  <thead>\n",
       "    <tr style=\"text-align: right;\">\n",
       "      <th></th>\n",
       "      <th>Cancelled</th>\n",
       "      <th>Diverted</th>\n",
       "      <th>Nb_Occurences</th>\n",
       "      <th>Cancellation_Ratio</th>\n",
       "    </tr>\n",
       "    <tr>\n",
       "      <th>OriginCityName</th>\n",
       "      <th></th>\n",
       "      <th></th>\n",
       "      <th></th>\n",
       "      <th></th>\n",
       "    </tr>\n",
       "  </thead>\n",
       "  <tbody>\n",
       "    <tr>\n",
       "      <th>Chicago, IL</th>\n",
       "      <td>10531.0</td>\n",
       "      <td>1022.0</td>\n",
       "      <td>403435.0</td>\n",
       "      <td>0.026</td>\n",
       "    </tr>\n",
       "    <tr>\n",
       "      <th>Dallas/Fort Worth, TX</th>\n",
       "      <td>6443.0</td>\n",
       "      <td>610.0</td>\n",
       "      <td>239077.0</td>\n",
       "      <td>0.027</td>\n",
       "    </tr>\n",
       "    <tr>\n",
       "      <th>New York, NY</th>\n",
       "      <td>4899.0</td>\n",
       "      <td>548.0</td>\n",
       "      <td>218094.0</td>\n",
       "      <td>0.022</td>\n",
       "    </tr>\n",
       "    <tr>\n",
       "      <th>Denver, CO</th>\n",
       "      <td>4538.0</td>\n",
       "      <td>752.0</td>\n",
       "      <td>268980.0</td>\n",
       "      <td>0.017</td>\n",
       "    </tr>\n",
       "    <tr>\n",
       "      <th>Newark, NJ</th>\n",
       "      <td>4524.0</td>\n",
       "      <td>371.0</td>\n",
       "      <td>137530.0</td>\n",
       "      <td>0.033</td>\n",
       "    </tr>\n",
       "  </tbody>\n",
       "</table>\n",
       "</div>"
      ],
      "text/plain": [
       "                       Cancelled  Diverted  Nb_Occurences  Cancellation_Ratio\n",
       "OriginCityName                                                               \n",
       "Chicago, IL              10531.0    1022.0       403435.0               0.026\n",
       "Dallas/Fort Worth, TX     6443.0     610.0       239077.0               0.027\n",
       "New York, NY              4899.0     548.0       218094.0               0.022\n",
       "Denver, CO                4538.0     752.0       268980.0               0.017\n",
       "Newark, NJ                4524.0     371.0       137530.0               0.033"
      ]
     },
     "execution_count": 80,
     "metadata": {},
     "output_type": "execute_result"
    }
   ],
   "source": [
    "CE_flight_without_covid_except_2020.head()"
   ]
  },
  {
   "cell_type": "markdown",
   "metadata": {},
   "source": [
    "In the next table we can see the ratio of cancelled flights during the covid by city of origin. \n",
    "These ratios are much higher during the covid-19"
   ]
  },
  {
   "cell_type": "code",
   "execution_count": 81,
   "metadata": {},
   "outputs": [
    {
     "data": {
      "text/html": [
       "<div>\n",
       "<style scoped>\n",
       "    .dataframe tbody tr th:only-of-type {\n",
       "        vertical-align: middle;\n",
       "    }\n",
       "\n",
       "    .dataframe tbody tr th {\n",
       "        vertical-align: top;\n",
       "    }\n",
       "\n",
       "    .dataframe thead th {\n",
       "        text-align: right;\n",
       "    }\n",
       "</style>\n",
       "<table border=\"1\" class=\"dataframe\">\n",
       "  <thead>\n",
       "    <tr style=\"text-align: right;\">\n",
       "      <th></th>\n",
       "      <th>Cancelled</th>\n",
       "      <th>Diverted</th>\n",
       "      <th>Nb_Occurences</th>\n",
       "      <th>Cancellation_Ratio</th>\n",
       "    </tr>\n",
       "    <tr>\n",
       "      <th>OriginCityName</th>\n",
       "      <th></th>\n",
       "      <th></th>\n",
       "      <th></th>\n",
       "      <th></th>\n",
       "    </tr>\n",
       "  </thead>\n",
       "  <tbody>\n",
       "    <tr>\n",
       "      <th>Chicago, IL</th>\n",
       "      <td>19738</td>\n",
       "      <td>480</td>\n",
       "      <td>286749</td>\n",
       "      <td>0.069</td>\n",
       "    </tr>\n",
       "    <tr>\n",
       "      <th>Atlanta, GA</th>\n",
       "      <td>11973</td>\n",
       "      <td>410</td>\n",
       "      <td>255350</td>\n",
       "      <td>0.047</td>\n",
       "    </tr>\n",
       "    <tr>\n",
       "      <th>Dallas/Fort Worth, TX</th>\n",
       "      <td>11740</td>\n",
       "      <td>413</td>\n",
       "      <td>225797</td>\n",
       "      <td>0.052</td>\n",
       "    </tr>\n",
       "    <tr>\n",
       "      <th>Denver, CO</th>\n",
       "      <td>11666</td>\n",
       "      <td>394</td>\n",
       "      <td>205552</td>\n",
       "      <td>0.057</td>\n",
       "    </tr>\n",
       "    <tr>\n",
       "      <th>Charlotte, NC</th>\n",
       "      <td>11205</td>\n",
       "      <td>310</td>\n",
       "      <td>186070</td>\n",
       "      <td>0.060</td>\n",
       "    </tr>\n",
       "  </tbody>\n",
       "</table>\n",
       "</div>"
      ],
      "text/plain": [
       "                       Cancelled  Diverted  Nb_Occurences  Cancellation_Ratio\n",
       "OriginCityName                                                               \n",
       "Chicago, IL                19738       480         286749               0.069\n",
       "Atlanta, GA                11973       410         255350               0.047\n",
       "Dallas/Fort Worth, TX      11740       413         225797               0.052\n",
       "Denver, CO                 11666       394         205552               0.057\n",
       "Charlotte, NC              11205       310         186070               0.060"
      ]
     },
     "execution_count": 81,
     "metadata": {},
     "output_type": "execute_result"
    }
   ],
   "source": [
    "CE_flight_during_covid.head()"
   ]
  },
  {
   "cell_type": "markdown",
   "metadata": {},
   "source": [
    "In this last table we compare flights during and outside the Covid-19 period. \n",
    "The numbers of cancelled flights are drastically different in these two periods. "
   ]
  },
  {
   "cell_type": "code",
   "execution_count": 82,
   "metadata": {},
   "outputs": [
    {
     "data": {
      "text/html": [
       "<div>\n",
       "<style scoped>\n",
       "    .dataframe tbody tr th:only-of-type {\n",
       "        vertical-align: middle;\n",
       "    }\n",
       "\n",
       "    .dataframe tbody tr th {\n",
       "        vertical-align: top;\n",
       "    }\n",
       "\n",
       "    .dataframe thead th {\n",
       "        text-align: right;\n",
       "    }\n",
       "</style>\n",
       "<table border=\"1\" class=\"dataframe\">\n",
       "  <thead>\n",
       "    <tr style=\"text-align: right;\">\n",
       "      <th></th>\n",
       "      <th></th>\n",
       "      <th>Cancelled_2020</th>\n",
       "      <th>Cancelled_except_2020</th>\n",
       "    </tr>\n",
       "    <tr>\n",
       "      <th>OriginCityName</th>\n",
       "      <th>DestCityName</th>\n",
       "      <th></th>\n",
       "      <th></th>\n",
       "    </tr>\n",
       "  </thead>\n",
       "  <tbody>\n",
       "    <tr>\n",
       "      <th>San Francisco, CA</th>\n",
       "      <th>Los Angeles, CA</th>\n",
       "      <td>8915</td>\n",
       "      <td>13575.333333</td>\n",
       "    </tr>\n",
       "    <tr>\n",
       "      <th>Los Angeles, CA</th>\n",
       "      <th>San Francisco, CA</th>\n",
       "      <td>8895</td>\n",
       "      <td>13579.666667</td>\n",
       "    </tr>\n",
       "    <tr>\n",
       "      <th>Chicago, IL</th>\n",
       "      <th>New York, NY</th>\n",
       "      <td>8321</td>\n",
       "      <td>14616.666667</td>\n",
       "    </tr>\n",
       "    <tr>\n",
       "      <th>New York, NY</th>\n",
       "      <th>Chicago, IL</th>\n",
       "      <td>8303</td>\n",
       "      <td>14620.333333</td>\n",
       "    </tr>\n",
       "    <tr>\n",
       "      <th>Los Angeles, CA</th>\n",
       "      <th>Las Vegas, NV</th>\n",
       "      <td>7375</td>\n",
       "      <td>10463.333333</td>\n",
       "    </tr>\n",
       "    <tr>\n",
       "      <th>Las Vegas, NV</th>\n",
       "      <th>Los Angeles, CA</th>\n",
       "      <td>7331</td>\n",
       "      <td>10450.666667</td>\n",
       "    </tr>\n",
       "    <tr>\n",
       "      <th>Washington, DC</th>\n",
       "      <th>Chicago, IL</th>\n",
       "      <td>7025</td>\n",
       "      <td>10014.000000</td>\n",
       "    </tr>\n",
       "    <tr>\n",
       "      <th>Chicago, IL</th>\n",
       "      <th>Washington, DC</th>\n",
       "      <td>6997</td>\n",
       "      <td>10020.666667</td>\n",
       "    </tr>\n",
       "    <tr>\n",
       "      <th>New York, NY</th>\n",
       "      <th>Boston, MA</th>\n",
       "      <td>6652</td>\n",
       "      <td>10653.666667</td>\n",
       "    </tr>\n",
       "    <tr>\n",
       "      <th>Boston, MA</th>\n",
       "      <th>New York, NY</th>\n",
       "      <td>6564</td>\n",
       "      <td>10634.000000</td>\n",
       "    </tr>\n",
       "  </tbody>\n",
       "</table>\n",
       "</div>"
      ],
      "text/plain": [
       "                                     Cancelled_2020  Cancelled_except_2020\n",
       "OriginCityName    DestCityName                                            \n",
       "San Francisco, CA Los Angeles, CA              8915           13575.333333\n",
       "Los Angeles, CA   San Francisco, CA            8895           13579.666667\n",
       "Chicago, IL       New York, NY                 8321           14616.666667\n",
       "New York, NY      Chicago, IL                  8303           14620.333333\n",
       "Los Angeles, CA   Las Vegas, NV                7375           10463.333333\n",
       "Las Vegas, NV     Los Angeles, CA              7331           10450.666667\n",
       "Washington, DC    Chicago, IL                  7025           10014.000000\n",
       "Chicago, IL       Washington, DC               6997           10020.666667\n",
       "New York, NY      Boston, MA                   6652           10653.666667\n",
       "Boston, MA        New York, NY                 6564           10634.000000"
      ]
     },
     "execution_count": 82,
     "metadata": {},
     "output_type": "execute_result"
    }
   ],
   "source": [
    "CF_flight_Cancellation_Study_Covid"
   ]
  },
  {
   "cell_type": "markdown",
   "metadata": {},
   "source": [
    "## Objective 4 \n",
    "### Explanation of Results\n",
    "\n",
    "We used multiple models to evaluate their performance with our data. To oversample the data we created additional records where flights were cancelled using the SMOTE(Synthetic Minority Oversampling Technique) algorithm. The following is the observation of the performance between the various models. \n",
    "\n",
    "| Model                          | Accuracy | Accurate Scheduled Predictions | Accurate Cancelled Predictions | Incorrect Predictions |\n",
    "|:--------------------------------|:----------:|:--------------------------------:|:--------------------------------:|:-----------------------:|\n",
    "| Logistic Regression            | 97.74    | 2,344,750                      | 18,714                         | 746,035               |\n",
    "| Random Forest Classification   | 97.7     | 3,031,181                      | 6,826                          | 71,492                |\n",
    "| Logistic Regression with SMOTE | 97.37    | 3,026,593                      | 1,197                          | 81,709                |\n",
    "\n",
    "* **Logistic Regression:** The Logistic Regression model without any oversampling was the most accurate with the highest number of cancellations predicted. However, this came at the cost of incorrect predictions and a reduced accuracy of predicting flights that were not cancelled.\n",
    "* **Random Forest:** The Random Forest model rated a higher accuracy than Logistic Regression when it comes to predicted flights that were not cancelled. But the accuracy of predicted cancelled flights were even lesser. It was approximately 36% of what Logistic Regression was able to predict. This model did have lesser false predictions.\n",
    "* **Logistic Regression with oversampled data:** This model with synthetic created through SMOTE also had a great accuracy rate for predicting flights that were not cancelled. However this model was the least accurate when it came to predicting flights that were actually cancelled. \n",
    "\n",
    "### Visualisation"
   ]
  },
  {
   "cell_type": "markdown",
   "metadata": {},
   "source": [
    "### Logistic Regression Confusion Matrix"
   ]
  },
  {
   "cell_type": "code",
   "execution_count": 83,
   "metadata": {},
   "outputs": [
    {
     "data": {
      "image/png": "[encoded data removed]",
      "text/plain": [
       "<Figure size 1440x360 with 6 Axes>"
      ]
     },
     "metadata": {
      "needs_background": "light"
     },
     "output_type": "display_data"
    }
   ],
   "source": [
    "show_confusion_matrix()"
   ]
  },
  {
   "cell_type": "markdown",
   "metadata": {},
   "source": [
    "# Conclusion\n",
    "\n",
    "### Achievements\n",
    "\n",
    "After the analysis of data we were successfully able to:\n",
    "\n",
    "1. Recommend the best flights to a destination from an origin.\n",
    "2. Rank the airlines according to its reliability making it easier for the passengers to choose a flight that will be less likely to be cancelled, delayed or diverted.\n",
    "3. Visualize the impact of covid on flights. We were able to make a comparison between pre and post covid times.\n",
    "4. Predict if a flight will be cancelled or not. \n",
    "\n",
    "### Limitations\n",
    "\n",
    "The main limitation in terms of the project was the ratio of cancellations and divertions to scheduled flights. One more limitation that we felt were that many other factors come into cancellation such as weather that can be utilised by visualising a pattern in the factors that led to the flight getting cancelled.\n",
    "\n",
    "### Future Work\n",
    "\n",
    "In the future, we would like to get a more comprehensive data set that contains more accurate data and additional columns to determine what reason the flights were cancelled for.\n",
    "\n",
    "Some of the outputs obtained were computed using a very small portion of the dataset. In the future we would like to analyze the data as a whole and see if the obtained outputs can be modified to better ones."
   ]
  }
 ],
 "metadata": {
  "kernelspec": {
   "display_name": "Python 3 (ipykernel)",
   "language": "python",
   "name": "python3"
  },
  "language_info": {
   "codemirror_mode": {
    "name": "ipython",
    "version": 3
   },
   "file_extension": ".py",
   "mimetype": "text/x-python",
   "name": "python",
   "nbconvert_exporter": "python",
   "pygments_lexer": "ipython3",
   "version": "3.9.7"
  }
 },
 "nbformat": 4,
 "nbformat_minor": 4
}
